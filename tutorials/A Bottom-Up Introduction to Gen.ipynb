{
 "cells": [
  {
   "cell_type": "markdown",
   "metadata": {},
   "source": [
    "# A Bottom-Up Introduction to Gen\n",
    "\n",
    "This notebook introduces some of the core concepts in Gen from the bottom-up, and uses some mathematical notation."
   ]
  },
  {
   "cell_type": "markdown",
   "metadata": {},
   "source": [
    "## 1. A simple probabilistic Julia program"
   ]
  },
  {
   "cell_type": "markdown",
   "metadata": {},
   "source": [
    "Consider the following Julia code:"
   ]
  },
  {
   "cell_type": "code",
   "execution_count": null,
   "metadata": {
    "collapsed": true
   },
   "outputs": [],
   "source": [
    "using Gen: uniform_discrete, bernoulli, categorical\n",
    "\n",
    "function f(p)\n",
    "    n = uniform_discrete(1, 10)\n",
    "    if bernoulli(p)\n",
    "        n *= 2\n",
    "    end\n",
    "    return categorical([i == n ? 0.5 : 0.5/19 for i=1:20])\n",
    "end;"
   ]
  },
  {
   "cell_type": "markdown",
   "metadata": {},
   "source": [
    "The function `f` calls three functions provided by Gen, each of which returns a random value, sampled from a certain probability distribution:\n",
    "\n",
    "- `uniform_discrete(a, b)` returns an integer uniformly sampled from the set `{a, .., b}`\n",
    "\n",
    "- `bernoulli(p)` returns `true` with probability `p` and `false` with probability `1-p`.\n",
    "\n",
    "- `categorical(probs)` returns the integer `i` with probability `probs[i]` for `i` in the set `{1, .., length(probs)}`.\n",
    "\n",
    "These are three of the many probability distributions that are provided by Gen."
   ]
  },
  {
   "cell_type": "markdown",
   "metadata": {},
   "source": [
    "The function `f` first sets the initial value of `n` to a random value drawn from the set of integers `{1, .., 10}`:\n",
    "\n",
    "```julia\n",
    "    n = uniform_discrete(1, 10)\n",
    "```\n",
    "\n",
    "Then, with probability `p`, it multiplies by `n` by two:\n",
    "```julia\n",
    "    if bernoulli(p)\n",
    "        n *= 2\n",
    "    end\n",
    "```\n",
    "\n",
    "Then, it samples an integer in the set `{1, ..., 20}`. With probability `0.5` the integer is `n`, and with probability `0.5` it is uniformly chosen from the remaining `19` integers. It returns this sampled integer:\n",
    "\n",
    "```julia\n",
    "    return categorical([i == n ? 0.5 : 0.5/19 for i=1:20])\n",
    "```"
   ]
  },
  {
   "cell_type": "markdown",
   "metadata": {},
   "source": [
    "If we run this function many times, we can see the probability distribution on its return values. The distribution depends on the argument `p` to the function:"
   ]
  },
  {
   "cell_type": "code",
   "execution_count": null,
   "metadata": {},
   "outputs": [],
   "source": [
    "using PyPlot\n",
    "\n",
    "bins = collect(range(0, 21))\n",
    "\n",
    "function plot_histogram(p)\n",
    "    hist([f(p) for _=1:100000], bins=bins)\n",
    "    title(\"p = $p\")\n",
    "end\n",
    "\n",
    "figure(figsize=(12, 2))\n",
    "\n",
    "subplot(1, 3, 1)\n",
    "plot_histogram(0.1)\n",
    "\n",
    "subplot(1, 3, 2)\n",
    "plot_histogram(0.5)\n",
    "\n",
    "subplot(1, 3, 3)\n",
    "plot_histogram(0.9);"
   ]
  },
  {
   "cell_type": "markdown",
   "metadata": {},
   "source": [
    "Suppose we wanted to see what the distribution on return values would be if the initial value of `n` was `2`. Because we don't know what random values were sampled during a given execution, we can't use simulations of `f` to answer this question. We would have to modify `f` first, to return the initial value of `n`:"
   ]
  },
  {
   "cell_type": "code",
   "execution_count": null,
   "metadata": {
    "collapsed": true
   },
   "outputs": [],
   "source": [
    "function f_with_initial_n(p)\n",
    "    initial_n = uniform_discrete(1, 10)\n",
    "    n = initial_n\n",
    "    if bernoulli(p)\n",
    "        n *= 2\n",
    "    end\n",
    "    result = categorical([i == n ? 0.5 : 0.5/19 for i=1:20])\n",
    "    return (result, initial_n)\n",
    "end;"
   ]
  },
  {
   "cell_type": "markdown",
   "metadata": {},
   "source": [
    "Then, we could only include executions in which our desired events did happen, when making our histogram:"
   ]
  },
  {
   "cell_type": "code",
   "execution_count": null,
   "metadata": {},
   "outputs": [],
   "source": [
    "function plot_histogram_filtered(p)\n",
    "    executions = 0\n",
    "    results = []\n",
    "    while executions < 100000\n",
    "        (result, initial_n) = f_with_initial_n(p)\n",
    "        if initial_n == 2\n",
    "            push!(results, result)\n",
    "            executions += 1\n",
    "        end\n",
    "    end\n",
    "    hist(results, bins=bins)\n",
    "    title(\"p = $p\")\n",
    "end;\n",
    "\n",
    "figure(figsize=(12, 2))\n",
    "\n",
    "subplot(1, 3, 1)\n",
    "plot_histogram_filtered(0.1)\n",
    "\n",
    "subplot(1, 3, 2)\n",
    "plot_histogram_filtered(0.5)\n",
    "\n",
    "subplot(1, 3, 3)\n",
    "plot_histogram_filtered(0.9);"
   ]
  },
  {
   "cell_type": "markdown",
   "metadata": {},
   "source": [
    "Suppose we wanted to ask more questions. We might need to modify each time we have a new question, to make sure that the function returns the particular pieces of information about the execution that the question requires.\n",
    "\n",
    "Note that if the function always returned the value of *every random choice*, then these values are sufficient to answer any question using executions of the function, because all states in the execution of the function are deterministic given the random choices. We will call the record of all the random choies a **trace**. In order to store all the random choices in the trace, we need to come up with a unique name or **address** for each random choice.\n",
    "\n",
    "Below, we implement the trace as a dictionary that maps addresses of random choices to their values. We use a unique Julia `Symbol` for each address:"
   ]
  },
  {
   "cell_type": "code",
   "execution_count": null,
   "metadata": {
    "collapsed": true
   },
   "outputs": [],
   "source": [
    "function f_with_trace(p)\n",
    "    trace = Dict()\n",
    "    \n",
    "    initial_n = uniform_discrete(1, 10)\n",
    "    trace[:initial_n] = initial_n\n",
    "    \n",
    "    n = initial_n\n",
    "    \n",
    "    do_branch = bernoulli(p)\n",
    "    trace[:do_branch] = do_branch\n",
    "    \n",
    "    if do_branch\n",
    "        n *= 2\n",
    "    end\n",
    "    \n",
    "    result = categorical([i == n ? 0.5 : 0.5/19 for i=1:20])\n",
    "    trace[:result] = result\n",
    "    \n",
    "    return (result, trace)\n",
    "end;"
   ]
  },
  {
   "cell_type": "markdown",
   "metadata": {},
   "source": [
    "We run the function, and get the return value and the trace:"
   ]
  },
  {
   "cell_type": "code",
   "execution_count": null,
   "metadata": {},
   "outputs": [],
   "source": [
    "f_with_trace(0.3)"
   ]
  },
  {
   "cell_type": "markdown",
   "metadata": {},
   "source": [
    "However, this program looks more complicated than the original program. We could make the syntax for tracing more concise:"
   ]
  },
  {
   "cell_type": "code",
   "execution_count": null,
   "metadata": {
    "collapsed": true
   },
   "outputs": [],
   "source": [
    "function add_to_trace!(trace, value, address)\n",
    "    trace[address] = value\n",
    "    return value\n",
    "end\n",
    "\n",
    "function f_with_trace_improved(p)\n",
    "    trace = Dict()\n",
    "    n = add_to_trace!(trace, uniform_discrete(1, 10), :initial_n)\n",
    "    if add_to_trace!(trace, bernoulli(p), :do_branch)\n",
    "        n *= 2\n",
    "    end\n",
    "    result = add_to_trace!(trace, categorical([i == n ? 0.5 : 0.5/19 for i=1:20]), :result)\n",
    "    return (result, trace)\n",
    "end;"
   ]
  },
  {
   "cell_type": "markdown",
   "metadata": {},
   "source": [
    "We run the function, and get the return value and the trace:"
   ]
  },
  {
   "cell_type": "code",
   "execution_count": null,
   "metadata": {},
   "outputs": [],
   "source": [
    "f_with_trace_improved(0.3)"
   ]
  },
  {
   "cell_type": "markdown",
   "metadata": {},
   "source": [
    "Now that we have instrumented the function, we can answer the following different question without needing to modify the function:\n",
    "\n",
    "\"What is the probability that the branch was taken, given that the result took the value 4?\""
   ]
  },
  {
   "cell_type": "code",
   "execution_count": null,
   "metadata": {},
   "outputs": [],
   "source": [
    "function query(p, observed_result_value::Int)\n",
    "    executions = 0\n",
    "    do_branch = []\n",
    "    while executions < 100000\n",
    "        (result, trace) = f_with_trace_improved(p)\n",
    "        if trace[:result] == observed_result_value\n",
    "            push!(do_branch, trace[:do_branch])\n",
    "            executions += 1\n",
    "        end\n",
    "    end\n",
    "    hist(do_branch, bins=[0, 1, 2], align=\"left\")\n",
    "    xticks([0, 1], [\"false\", \"true\"])\n",
    "    title(\"p = $p\")\n",
    "end;\n",
    "\n",
    "figure(figsize=(12, 2))\n",
    "\n",
    "subplot(1, 3, 1)\n",
    "query(0.1, 4)\n",
    "\n",
    "subplot(1, 3, 2)\n",
    "query(0.5, 4)\n",
    "\n",
    "subplot(1, 3, 3)\n",
    "query(0.9, 4);"
   ]
  },
  {
   "cell_type": "markdown",
   "metadata": {},
   "source": [
    "What about a result value that is greater than 10?"
   ]
  },
  {
   "cell_type": "code",
   "execution_count": null,
   "metadata": {},
   "outputs": [],
   "source": [
    "figure(figsize=(12, 2))\n",
    "\n",
    "subplot(1, 3, 1)\n",
    "query(0.1, 14)\n",
    "\n",
    "subplot(1, 3, 2)\n",
    "query(0.5, 14)\n",
    "\n",
    "subplot(1, 3, 3)\n",
    "query(0.9, 14);"
   ]
  },
  {
   "cell_type": "markdown",
   "metadata": {},
   "source": [
    "## 2. Tracing the values of random choices in generative functions"
   ]
  },
  {
   "cell_type": "markdown",
   "metadata": {},
   "source": [
    "The ability to *trace* the values of random choices in a probabilistic program (i.e. record the value of each choice in a trace data structure) is one of the basic features of Gen's built-in modeling language. To write a function in this language we use the `@gen` macro provided by Gen. Note that the built-in modeling language is just one way of defining a [generative function](https://probcomp.github.io/Gen/dev/ref/distributions/).\n",
    "\n",
    "Below, we write a `@gen function` version of the function `f` defined above, this time using Gen's tracing instead of our own:"
   ]
  },
  {
   "cell_type": "code",
   "execution_count": null,
   "metadata": {
    "collapsed": true
   },
   "outputs": [],
   "source": [
    "using Gen: @gen, @trace\n",
    "\n",
    "@gen function gen_f(p)\n",
    "    n = @trace(uniform_discrete(1, 10), :initial_n)\n",
    "    if @trace(bernoulli(p), :do_branch)\n",
    "        n *= 2\n",
    "    end\n",
    "    return @trace(categorical([i == n ? 0.5 : 0.5/19 for i=1:20]), :result)\n",
    "end;"
   ]
  },
  {
   "cell_type": "markdown",
   "metadata": {},
   "source": [
    "The `@trace` keyword records the value of the given random choice at the given address into an *implicit trace data structure*. The trace data structure itself is not a variable in the function, and that code in the body of the function cannot read from the trace. It is an error to call `@trace` with the same address twice. Addresses can be arbitrary Julia values. In this notebook, all the addresses will be Julia symbols.\n",
    "\n",
    "Also note that the trace is not part of the return value:"
   ]
  },
  {
   "cell_type": "code",
   "execution_count": null,
   "metadata": {},
   "outputs": [],
   "source": [
    "gen_f(0.3)"
   ]
  },
  {
   "cell_type": "markdown",
   "metadata": {},
   "source": [
    "To run a `@gen` function and get a trace of the execution, we use the [`simulate`](https://probcomp.github.io/Gen/dev/ref/gfi/#Gen.simulate) method:"
   ]
  },
  {
   "cell_type": "code",
   "execution_count": null,
   "metadata": {
    "collapsed": true
   },
   "outputs": [],
   "source": [
    "using Gen: simulate\n",
    "trace = simulate(gen_f, (0.3,));"
   ]
  },
  {
   "cell_type": "markdown",
   "metadata": {},
   "source": [
    "We can access the values of random choices by indexing into the trace:"
   ]
  },
  {
   "cell_type": "code",
   "execution_count": null,
   "metadata": {},
   "outputs": [],
   "source": [
    "trace[:initial_n]"
   ]
  },
  {
   "cell_type": "markdown",
   "metadata": {},
   "source": [
    "We can also print the values of all choices made:"
   ]
  },
  {
   "cell_type": "code",
   "execution_count": null,
   "metadata": {},
   "outputs": [],
   "source": [
    "using Gen: get_choices\n",
    "\n",
    "println(get_choices(trace))"
   ]
  },
  {
   "cell_type": "markdown",
   "metadata": {},
   "source": [
    "Gen also stores the arguments on which the function was called:"
   ]
  },
  {
   "cell_type": "code",
   "execution_count": null,
   "metadata": {},
   "outputs": [],
   "source": [
    "using Gen: get_args\n",
    "\n",
    "get_args(trace)"
   ]
  },
  {
   "cell_type": "markdown",
   "metadata": {},
   "source": [
    "and the return value:"
   ]
  },
  {
   "cell_type": "code",
   "execution_count": null,
   "metadata": {},
   "outputs": [],
   "source": [
    "using Gen: get_retval\n",
    "\n",
    "get_retval(trace)"
   ]
  },
  {
   "cell_type": "markdown",
   "metadata": {},
   "source": [
    "Now, we will answer the same question as above, but this time using our `@gen` function:"
   ]
  },
  {
   "cell_type": "code",
   "execution_count": null,
   "metadata": {},
   "outputs": [],
   "source": [
    "function gen_query(p, observed_result_value::Int)\n",
    "    executions = 0\n",
    "    do_branch = []\n",
    "    while executions < 100000\n",
    "        trace = simulate(gen_f, (p,))\n",
    "        if trace[:result] == observed_result_value\n",
    "            push!(do_branch, trace[:do_branch])\n",
    "            executions += 1\n",
    "        end\n",
    "    end\n",
    "    hist(do_branch, bins=[0, 1, 2], align=\"left\")\n",
    "    xticks([0, 1], [\"false\", \"true\"])\n",
    "    title(\"p = $p\")\n",
    "end;\n",
    "\n",
    "figure(figsize=(12, 2))\n",
    "\n",
    "subplot(1, 3, 1)\n",
    "gen_query(0.1, 14)\n",
    "\n",
    "subplot(1, 3, 2)\n",
    "gen_query(0.5, 14)\n",
    "\n",
    "subplot(1, 3, 3)\n",
    "gen_query(0.9, 14);"
   ]
  },
  {
   "cell_type": "markdown",
   "metadata": {},
   "source": [
    "## 3. The probability distribution represented by a generative function"
   ]
  },
  {
   "cell_type": "markdown",
   "metadata": {},
   "source": [
    "A generative function that terminates with probability one has a probability distribution on its executions. We represent an execution of the function as the map from addresses of random choices to their values. We call this map a **choice map** (denoted mathematically by $t$). Then, for given arguments to the function (denoted mathematically by $x$), we can list the possible choice maps, and we can compute the probability of each choice map (denoted $p(t; x)$) by taking the product of the probability of each random choice in the map. We can also compute the return value of the function from the arguments and the choice map (the function that computes the return value is denoted mathematically by $f(x ,t)$). Let's do this for a simple function `foo`:"
   ]
  },
  {
   "cell_type": "code",
   "execution_count": null,
   "metadata": {
    "collapsed": true
   },
   "outputs": [],
   "source": [
    "@gen function foo(prob_a)\n",
    "    val = true\n",
    "    if @trace(bernoulli(prob_a), :a)\n",
    "        val = @trace(bernoulli(0.6), :b) && val\n",
    "    end\n",
    "    prob_c = val ? 0.9 : 0.2\n",
    "    val = @trace(bernoulli(prob_c), :c) && val\n",
    "    return val\n",
    "end;"
   ]
  },
  {
   "cell_type": "markdown",
   "metadata": {},
   "source": [
    "$$\n",
    "\\begin{array}{l|l|l}\n",
    "\\mbox{Random choice map } t & \\mbox{Probability } p(t; x) & \\mbox{Return value } f(x, t) \\\\\n",
    "\\hline\n",
    "\\{a \\mapsto \\mbox{true}, b \\mapsto \\mbox{true}, c \\mapsto \\mbox{true}\\} & \\mbox{prob_a} \\cdot 0.6\\cdot 0.9 & \\mbox{true}\\\\\n",
    "\\{a \\mapsto \\mbox{true}, b \\mapsto \\mbox{true}, c \\mapsto \\mbox{false}\\} & \\mbox{prob_a} \\cdot 0.6 \\cdot 0.1 & \\mbox{false}\\\\\n",
    "\\{a \\mapsto \\mbox{true}, b \\mapsto \\mbox{false}, c \\mapsto \\mbox{true}\\} & \\mbox{prob_a} \\cdot 0.4 \\cdot 0.2 & \\mbox{false}\\\\\n",
    "\\{a \\mapsto \\mbox{true}, b \\mapsto \\mbox{false}, c \\mapsto \\mbox{false}\\} & \\mbox{prob_a} \\cdot 0.4 \\cdot 0.8 & \\mbox{false}\\\\\n",
    "\\{a \\mapsto \\mbox{false}, c \\mapsto \\mbox{true}\\} & (1-\\mbox{prob_a}) \\cdot 0.9 & \\mbox{true}\\\\\n",
    "\\{a \\mapsto \\mbox{false}, c \\mapsto \\mbox{false}\\} & (1-\\mbox{prob_a}) \\cdot 0.1 & \\mbox{false}\n",
    "\\end{array}\n",
    "$$"
   ]
  },
  {
   "cell_type": "markdown",
   "metadata": {},
   "source": [
    "Check your understanding by deriving by hand the probability and return value for a few rows of this table."
   ]
  },
  {
   "cell_type": "markdown",
   "metadata": {},
   "source": [
    "Based on our table, the probability that `foo` returns `true` is:"
   ]
  },
  {
   "cell_type": "code",
   "execution_count": null,
   "metadata": {
    "collapsed": true
   },
   "outputs": [],
   "source": [
    "prob_true(prob_a) = prob_a * 0.6 * 0.9 + (1-prob_a) * 0.9;"
   ]
  },
  {
   "cell_type": "markdown",
   "metadata": {},
   "source": [
    "Let's check that using some simulations:"
   ]
  },
  {
   "cell_type": "code",
   "execution_count": null,
   "metadata": {},
   "outputs": [],
   "source": [
    "for prob_a in [0.1, 0.5, 0.9]\n",
    "    actual = sum([foo(prob_a) for _=1:10000]) / 10000\n",
    "    println(\"expected: $(prob_true(prob_a)), actual: $actual\")\n",
    "end"
   ]
  },
  {
   "cell_type": "markdown",
   "metadata": {},
   "source": [
    "We can also get the log probability that an individual trace would be generated by the function ($\\log p(t; x)$), using the [`get_score`](https://probcomp.github.io/Gen/dev/ref/gfi/#Gen.get_score) method.\n",
    "\n",
    "Let's generate a trace below, get its log probability with `get_score`"
   ]
  },
  {
   "cell_type": "code",
   "execution_count": null,
   "metadata": {},
   "outputs": [],
   "source": [
    "using Gen: get_score\n",
    "trace = simulate(foo, (0.3,))\n",
    "println(get_choices(trace))\n",
    "println(\"log probability: $(get_score(trace))\")"
   ]
  },
  {
   "cell_type": "markdown",
   "metadata": {},
   "source": [
    "Check this value against the hand-computed value in our table above."
   ]
  },
  {
   "cell_type": "markdown",
   "metadata": {},
   "source": [
    "## 4. Generating a trace that satisfies certain constraints"
   ]
  },
  {
   "cell_type": "markdown",
   "metadata": {},
   "source": [
    "So far, we have run generative functions in two ways:\n",
    "    \n",
    "1. Using usual Julia call syntax:\n",
    "\n",
    "    ```julia\n",
    "        gen_f(0.3)\n",
    "    ```\n",
    "\n",
    "2. Using the [`simulate`](https://probcomp.github.io/Gen/dev/ref/gfi/#Gen.simulate) method:\n",
    "\n",
    "    ```julia\n",
    "        trace = simulate(gen_f, (0.3,))\n",
    "    ```"
   ]
  },
  {
   "cell_type": "markdown",
   "metadata": {},
   "source": [
    "We can also generate a trace that satisfies a set of constraints on the valus of random choices using the [`generate`](https://probcomp.github.io/Gen/dev/ref/gfi/#Gen.generate) method. Suppose that we want a trace where `:a` is always `true` and `:c` is always `false`. We first construct a choice map containing these constraints:"
   ]
  },
  {
   "cell_type": "code",
   "execution_count": null,
   "metadata": {},
   "outputs": [],
   "source": [
    "using Gen: choicemap\n",
    "\n",
    "constraints = choicemap((:a, true), (:c, false))\n",
    "\n",
    "println(constraints)"
   ]
  },
  {
   "cell_type": "markdown",
   "metadata": {},
   "source": [
    "The `choicemap` constructor above took two elements of the form `(address, value`). This is equivalent to constructing an empty choice map and then populating it:\n",
    "```julia\n",
    "choices = choicemap()\n",
    "choices[:a] = true\n",
    "choices[:c] = false\n",
    "```"
   ]
  },
  {
   "cell_type": "markdown",
   "metadata": {},
   "source": [
    "Then, we pass the constraints as the third argument to `generate`, after the function itself and the arguments:"
   ]
  },
  {
   "cell_type": "code",
   "execution_count": null,
   "metadata": {
    "collapsed": true
   },
   "outputs": [],
   "source": [
    "using Gen: generate\n",
    "\n",
    "(trace, weight) = generate(foo, (0.3,), constraints);"
   ]
  },
  {
   "cell_type": "markdown",
   "metadata": {},
   "source": [
    "Note that we also get a weight in addition to the trace. We will discuss the weight shortly.\n",
    "\n",
    "\n",
    "Let's check that the trace actually agrees with our constraints:"
   ]
  },
  {
   "cell_type": "code",
   "execution_count": null,
   "metadata": {},
   "outputs": [],
   "source": [
    "println(get_choices(trace))"
   ]
  },
  {
   "cell_type": "markdown",
   "metadata": {},
   "source": [
    "We can also check the return value:"
   ]
  },
  {
   "cell_type": "code",
   "execution_count": null,
   "metadata": {},
   "outputs": [],
   "source": [
    "get_retval(trace)"
   ]
  },
  {
   "cell_type": "markdown",
   "metadata": {},
   "source": [
    "When we invoke `generate`, the choice map is clearly not being sampled from $p(t; x)$, because $p(t; x)$ can generate 6 possible choice maps, whereas our call to `generate` can only generate 2 possible choice maps. Instead, the generative function employs an **internal proposal distribution** on choice maps $t$, denoted mathematically by $q(t; x, u)$, where $u$ is the choice map for the constraints.\n",
    "\n",
    "The internal proposal distribution cannot generate a choice map that disagrees with the constraints, and it can only generate choice maps that could possibly be sampled from $p(t; x)$. Furthermore, we also require the internal proposal distribution to have *some probability* of sampling *any* choice map $t$ that agrees with the constraints, and that could be possibly be sampled from $p(t; x)$. These requirements can be summarized by the following:\n",
    "\n",
    "$$q(t; x, u) > 0 \\iff p(t; x) > 0 \\land u(a) = t(a) \\;\\; \\forall a \\in \\mbox{dom}(u) \\cap \\mbox{dom}(t)$$\n",
    "\n",
    "where $\\mbox{dom}$ stands for 'domain', and gives the set of addresses in a choice map.\n",
    "\n",
    "The specific internal proposal distribution used by `@gen` functions is based on **ancestral sampling**, which operates as follows: We run the function. To evaluate a `@trace` expression, we look up the address in the constraints choice map. If the address is present in the constraints choice map, we deterministically return the value stored in the constraints for that address. If the address is not present in the constraints, we sample the value from the distribution in the `@trace` expression. For the function `foo`, with constraints $u = \\{a \\mapsto \\mbox{true}, c \\mapsto \\mbox{false}\\}$, the internal proposal distribution is:\n",
    "\n",
    "$$\n",
    "\\begin{array}{l|l}\n",
    "\\mbox{Random choice map } t & q(t; x, u)\\\\\n",
    "\\hline\n",
    "\\{a \\mapsto \\mbox{true}, b \\mapsto \\mbox{true}, c \\mapsto \\mbox{false}\\} & 0.6\\\\\n",
    "\\{a \\mapsto \\mbox{true}, b \\mapsto \\mbox{false}, c \\mapsto \\mbox{false}\\} & 0.4\n",
    "\\end{array}\n",
    "$$"
   ]
  },
  {
   "cell_type": "markdown",
   "metadata": {},
   "source": [
    "Check your understanding by deriving this distribution by hand."
   ]
  },
  {
   "cell_type": "markdown",
   "metadata": {},
   "source": [
    "The weight returned by `generate` is:\n",
    "\n",
    "$$\\log \\frac{p(t; x)}{q(t; x, u)}$$"
   ]
  },
  {
   "cell_type": "markdown",
   "metadata": {},
   "source": [
    "Let's confirm this using our trace and weight sampled above. Note that we ran `generate` with `prob_a = 0.3`:"
   ]
  },
  {
   "cell_type": "code",
   "execution_count": null,
   "metadata": {},
   "outputs": [],
   "source": [
    "if trace[:b]\n",
    "    # choice map is {a -> true, b -> true, c -> false}\n",
    "    expected_weight = log(0.3 * 0.6 * 0.1 / 0.6)\n",
    "else\n",
    "    # choice map is {a -> true, b -> false, c -> false}\n",
    "    expected_weight = log(0.3 * 0.4 * 0.8 / 0.4)\n",
    "end\n",
    "println(\"expected_weight: $expected_weight, actual_weight: $weight\")"
   ]
  },
  {
   "cell_type": "markdown",
   "metadata": {},
   "source": [
    "The ability to generate a trace that satisfies constraints, along with the weight, is a useful primitive operation for implementing a class of approximate inference algorithms called **importance resampling**. We can implement importance resampling by (i) generating a collection of traces satisfying the constraints, and associated weights, and (ii) returning one of these traces with probability in proportion to its weight: "
   ]
  },
  {
   "cell_type": "code",
   "execution_count": null,
   "metadata": {
    "collapsed": true
   },
   "outputs": [],
   "source": [
    "function my_importance_sampler(gen_fn, args, constraints, num_traces)\n",
    "    traces = []\n",
    "    weights = []\n",
    "    for i=1:num_traces\n",
    "        (trace, weight) = generate(gen_fn, args, constraints)\n",
    "        push!(traces, trace)\n",
    "        push!(weights, weight)\n",
    "    end\n",
    "    \n",
    "    # note: the weights are in log-space, so we exponentiate\n",
    "    normalized_weights = exp.(weights) / sum(exp.(weights))\n",
    "    idx = categorical(normalized_weights)\n",
    "    return traces[idx]\n",
    "end;"
   ]
  },
  {
   "cell_type": "markdown",
   "metadata": {},
   "source": [
    "A more efficient and numerically robust implementation of importance resampling is provided in Gen's inference library (see [`importance_resampling`](https://probcomp.github.io/Gen/dev/ref/inference/#Gen.importance_resampling))."
   ]
  },
  {
   "cell_type": "markdown",
   "metadata": {},
   "source": [
    "Suppose our goal is to sample `:a` and `:b` from the conditional distribution given that we have observed `:c` is `false`. That is, we want to sample choice map $t$ with probability $0$ if $t(c) = \\mbox{false}$ and otherwise probability:\n",
    "\n",
    "$$\\frac{p(t; x)}{\\displaystyle \\sum_{t' : t'(c) = \\mbox{true}} p(t'; x)}$$"
   ]
  },
  {
   "cell_type": "markdown",
   "metadata": {},
   "source": [
    "In this simple case, we can compute the probability by hand (assuming `prob_a = 0.3`). There are three choice maps with nonzero probability:"
   ]
  },
  {
   "cell_type": "code",
   "execution_count": null,
   "metadata": {},
   "outputs": [],
   "source": [
    "p1 = 0.3 * 0.6 * 0.1\n",
    "p2 = 0.3 * 0.4 * 0.8\n",
    "p3 = 0.7 * 0.1\n",
    "p1 + p2 + p3\n",
    "println(p1 / (p1 + p2 + p3))\n",
    "println(p2 / (p1 + p2 + p3))\n",
    "println(p3 / (p1 + p2 + p3))"
   ]
  },
  {
   "cell_type": "markdown",
   "metadata": {},
   "source": [
    "$$\n",
    "\\begin{array}{l|l}\n",
    "\\mbox{Random choice map } t & \\mbox{Conditional probability }\\\\\n",
    "\\hline\n",
    "\\{a \\mapsto \\mbox{true}, b \\mapsto \\mbox{true}, c \\mapsto \\mbox{true}\\} & 0\\\\\n",
    "\\{a \\mapsto \\mbox{true}, b \\mapsto \\mbox{true}, c \\mapsto \\mbox{false}\\} & 0.0978\\\\\n",
    "\\{a \\mapsto \\mbox{true}, b \\mapsto \\mbox{false}, c \\mapsto \\mbox{true}\\} & 0\\\\\n",
    "\\{a \\mapsto \\mbox{true}, b \\mapsto \\mbox{false}, c \\mapsto \\mbox{false}\\} & 0.5217\\\\\n",
    "\\{a \\mapsto \\mbox{false}, c \\mapsto \\mbox{true}\\} &  0\\\\\n",
    "\\{a \\mapsto \\mbox{false}, c \\mapsto \\mbox{false}\\} & 0.3804\n",
    "\\end{array}\n",
    "$$"
   ]
  },
  {
   "cell_type": "markdown",
   "metadata": {},
   "source": [
    "In particular, the probability that `a` is `true` given our condition, is:"
   ]
  },
  {
   "cell_type": "code",
   "execution_count": null,
   "metadata": {},
   "outputs": [],
   "source": [
    "prob_a_true = (p1 + p2) / (p1 + p2 + p3)"
   ]
  },
  {
   "cell_type": "markdown",
   "metadata": {},
   "source": [
    "We can sample approximately from this disribution using our importance sampler. As we increase the number of traces, the actual distribution approaches the desired distribution:"
   ]
  },
  {
   "cell_type": "code",
   "execution_count": null,
   "metadata": {},
   "outputs": [],
   "source": [
    "figure(figsize=(10, 2))\n",
    "\n",
    "subplot(1, 3, 1)\n",
    "as = []\n",
    "for i=1:10000\n",
    "    trace = my_importance_sampler(foo, (0.3,), choicemap((:c, false)), 1)\n",
    "    push!(as, trace[:a])\n",
    "end\n",
    "hist(as, bins=[0, 1, 2], align=\"left\")\n",
    "xticks([0, 1], [\"a = false\", \"a = true\"]);\n",
    "est_prob_a_true = sum(as) / 10000\n",
    "title(\"using 1 trace, estimate: $est_prob_a_true\")\n",
    "\n",
    "subplot(1, 3, 2)\n",
    "as = []\n",
    "for i=1:10000\n",
    "    trace = my_importance_sampler(foo, (0.3,), choicemap((:c, false)), 10)\n",
    "    push!(as, trace[:a])\n",
    "end\n",
    "hist(as, bins=[0, 1, 2], align=\"left\")\n",
    "xticks([0, 1], [\"a = false\", \"a = true\"]);\n",
    "est_prob_a_true = sum(as) / 10000\n",
    "title(\"using 10 traces, estimate: $est_prob_a_true\")\n",
    "\n",
    "subplot(1, 3, 3)\n",
    "as = []\n",
    "for i=1:10000\n",
    "    trace = my_importance_sampler(foo, (0.3,), choicemap((:c, false)), 100)\n",
    "    push!(as, trace[:a])\n",
    "end\n",
    "hist(as, bins=[0, 1, 2], align=\"left\")\n",
    "xticks([0, 1], [\"a = false\", \"a = true\"]);\n",
    "est_prob_a_true = sum(as) / 10000\n",
    "title(\"using 100 traces, estimate: $est_prob_a_true\");"
   ]
  },
  {
   "cell_type": "markdown",
   "metadata": {},
   "source": [
    "Indeed, the estimated probability that `a = true` is approaching the true probability that we manually computed:"
   ]
  },
  {
   "cell_type": "code",
   "execution_count": null,
   "metadata": {},
   "outputs": [],
   "source": [
    "prob_a_true"
   ]
  },
  {
   "cell_type": "markdown",
   "metadata": {},
   "source": [
    "## 5. Updating a trace"
   ]
  },
  {
   "cell_type": "markdown",
   "metadata": {},
   "source": [
    "Gen also provides a primitive for updating a trace to conform with new constraints on its choice map. We can use this to implement iterative inference and local optimization algorithms."
   ]
  },
  {
   "cell_type": "markdown",
   "metadata": {},
   "source": [
    "Consider the function `foo` from above. Let's obtain an initial trace:"
   ]
  },
  {
   "cell_type": "code",
   "execution_count": null,
   "metadata": {},
   "outputs": [],
   "source": [
    "(trace, weight) = generate(foo, (0.3,), choicemap((:a, true), (:b, true), (:c, true)));\n",
    "println(get_choices(trace))"
   ]
  },
  {
   "cell_type": "markdown",
   "metadata": {},
   "source": [
    "Now, we use the [`update`](https://probcomp.github.io/Gen/dev/ref/gfi/#Gen.update) method, to change the value of `:c` from `true` to `false`:"
   ]
  },
  {
   "cell_type": "code",
   "execution_count": null,
   "metadata": {},
   "outputs": [],
   "source": [
    "using Gen: update, NoChange\n",
    "\n",
    "constraints = choicemap((:c, false))\n",
    "(new_trace, weight, discard, retdiff) = update(trace, (0.3,), (NoChange(),), constraints)\n",
    "println(get_choices(new_trace))"
   ]
  },
  {
   "cell_type": "markdown",
   "metadata": {},
   "source": [
    "The `update` method returns the new trace, as well as a weight, which the log ratio of probabilities of the new choice map ($t'$) and the old choice map ($t$):\n",
    "\n",
    "$$\\log \\frac{p(t'; x')}{p(t; x)}$$\n",
    "\n",
    "The `update` method also allows you to change the arguments to the function (from $x$ to $x'$), but we will not discuss that in this tutorial."
   ]
  },
  {
   "cell_type": "markdown",
   "metadata": {},
   "source": [
    "Let's confirm that the weight matches a manual calculation:"
   ]
  },
  {
   "cell_type": "code",
   "execution_count": null,
   "metadata": {},
   "outputs": [],
   "source": [
    "expected_weight = log(0.3 * 0.6 * 0.1) - log(0.3 * 0.6 * 0.9)"
   ]
  },
  {
   "cell_type": "code",
   "execution_count": null,
   "metadata": {},
   "outputs": [],
   "source": [
    "weight"
   ]
  },
  {
   "cell_type": "markdown",
   "metadata": {},
   "source": [
    "Doing an update can also cause some addresses to leave the choice map altogether. For example, if we set `:a` to `false`, then choice at address `:b` is no longer include in the choice map."
   ]
  },
  {
   "cell_type": "code",
   "execution_count": null,
   "metadata": {},
   "outputs": [],
   "source": [
    "(trace, weight, retdiff, discard) = update(trace, (0.3,), (NoChange(),), choicemap((:a, false)))\n",
    "println(get_choices(trace))"
   ]
  },
  {
   "cell_type": "markdown",
   "metadata": {},
   "source": [
    "The *discard* choice map that is returned by `update` contains the valus for any addresses that were removed from the choice map, as well as any the previous values for any addresses that were constrained:"
   ]
  },
  {
   "cell_type": "code",
   "execution_count": null,
   "metadata": {},
   "outputs": [],
   "source": [
    "println(discard)"
   ]
  },
  {
   "cell_type": "markdown",
   "metadata": {},
   "source": [
    "Note that if we now apply the discard as the constraints, we will get back the original choice map:"
   ]
  },
  {
   "cell_type": "code",
   "execution_count": null,
   "metadata": {},
   "outputs": [],
   "source": [
    "(trace, weight, retdiff, discard) = update(trace, (0.3,), (NoChange(),), discard);"
   ]
  },
  {
   "cell_type": "code",
   "execution_count": null,
   "metadata": {
    "scrolled": true
   },
   "outputs": [],
   "source": [
    "println(get_choices(trace))"
   ]
  },
  {
   "cell_type": "markdown",
   "metadata": {},
   "source": [
    "The new discard choice map now contains the old constraints:"
   ]
  },
  {
   "cell_type": "code",
   "execution_count": null,
   "metadata": {},
   "outputs": [],
   "source": [
    "println(discard)"
   ]
  },
  {
   "cell_type": "markdown",
   "metadata": {},
   "source": [
    "This illustrates a useful notion of **reversibility** of the `update` method, which will be important when using it as a primitive in Metropolis-Hastings algorithms."
   ]
  }
 ],
 "metadata": {
  "kernelspec": {
   "display_name": "Julia 1.0.2",
   "language": "julia",
   "name": "julia-1.0"
  },
  "language_info": {
   "file_extension": ".jl",
   "mimetype": "application/julia",
   "name": "julia",
   "version": "1.0.2"
  }
 },
 "nbformat": 4,
 "nbformat_minor": 2
}
