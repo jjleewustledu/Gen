{
 "cells": [
  {
   "cell_type": "markdown",
   "metadata": {},
   "source": [
    "# Tutorial: Data-Driven Proposals in Gen\n",
    "\n",
    "This tutorial introduces you to an important inference programming feature in Gen --- using custom \"data-driven\" proposals to accelerate Monte Carlo inference. Data-driven proposals use information in the observed data set to choose the proposal distibution for latent variables in a generative model. Data-driven proposals can have trainable parameters that are trained data simulated from a generative model to improve their efficacy. This training process is sometimes called 'amortized inference' or 'inference compilation'.\n",
    "\n",
    "We focus on using data-driven proposals with importance sampling, which is one of the simpler classes of Monte Carlo inference algorithms. Data-driven proposals can also be used with Markov Chain Monte Carlo (MCMC) and sequential Monte Carlo (SMC), but these are not covered in this tutorial.\n",
    "\n",
    "This tutorial builds on a probabilistic model for the motion of an autonomous agent that was introduced in the [introduction to modeling tutorial](https://github.com/probcomp/gen-examples/tree/master/tutorial-modeling-intro). We show that we can improve the efficiency of inference in this model using two types of custom proposals for the destination of the agent: First, we write a hand-coded data-driven proposal with a single parameter that we tune using amortized inference. Second, we write a data-driven proposal based on a deep neural network, which we also train using amortized inference. We show an implementation of the neural-network based proposal using the built-in modeling language, and then an implementation using the TensorFlow modeling DSL.\n",
    "\n",
    "Data-driven proposals that are trained on simulated data can be seen from two perspectives: For practitioners of inference in generative models, they can be seen learning a proposal distribution that approximates the conditional distribution on latent variables given observations. Practitioners of supervised machine learning may view data-driven proposals as discriminative models trained on simulated data. By writing the data simulator in a probabilistic programming language, we can embed the probabilistic discriminative model in Monte Carlo algorithms, which can assist with robustness and accuracy. This is an active area of research.\n",
    "\n",
    "## Outline\n",
    "\n",
    "**Section 1.** [Recap on the generative model of an autonomous agent](#model-recap)\n",
    "\n",
    "**Section 2.** [Writing a data-driven proposal as a generative function](#custom-proposal)\n",
    "\n",
    "**Section 3.** [Using a data-driven proposal within importance sampling](#using)\n",
    "\n",
    "**Section 4.** [Training the parameters of a data-driven proposal](#training)\n",
    "\n",
    "**Section 5.** [Writing and training a deep-learning based data-driven proposal](#deep)\n",
    "\n",
    "**Section 6.** [Writing a data-driven proposal that uses TensorFlow](#tf)"
   ]
  },
  {
   "cell_type": "code",
   "execution_count": null,
   "metadata": {
    "collapsed": true
   },
   "outputs": [],
   "source": [
    "using Gen\n",
    "using GenViz\n",
    "using PyPlot\n",
    "using JLD"
   ]
  },
  {
   "cell_type": "code",
   "execution_count": null,
   "metadata": {
    "collapsed": true
   },
   "outputs": [],
   "source": [
    "viz_server = VizServer(8092)\n",
    "sleep(1)"
   ]
  },
  {
   "cell_type": "markdown",
   "metadata": {},
   "source": [
    "## 1: Recap on the generative model of an autonomous agent   <a name=\"model-recap\"></a>"
   ]
  },
  {
   "cell_type": "markdown",
   "metadata": {},
   "source": [
    "We begin by loading the source files for the generative model of an autonomous agent that was introduced in a previous tutorial:"
   ]
  },
  {
   "cell_type": "code",
   "execution_count": null,
   "metadata": {
    "collapsed": true
   },
   "outputs": [],
   "source": [
    "include(\"../inverse-planning/geometric_primitives.jl\");\n",
    "include(\"../inverse-planning/scene.jl\");\n",
    "include(\"../inverse-planning/planning.jl\");"
   ]
  },
  {
   "cell_type": "markdown",
   "metadata": {},
   "source": [
    "We redefine the generative model:"
   ]
  },
  {
   "cell_type": "code",
   "execution_count": null,
   "metadata": {
    "collapsed": true
   },
   "outputs": [],
   "source": [
    "@gen function agent_model(scene::Scene, dt::Float64, num_ticks::Int, planner_params::PlannerParams)\n",
    "\n",
    "    # sample the start point of the agent from the prior\n",
    "    start_x = @trace(uniform(0, 1), :start_x)\n",
    "    start_y = @trace(uniform(0, 1), :start_y)\n",
    "    start = Point(start_x, start_y)\n",
    "\n",
    "    # sample the destination point of the agent from the prior\n",
    "    dest_x = @trace(uniform(0, 1), :dest_x)\n",
    "    dest_y = @trace(uniform(0, 1), :dest_y)\n",
    "    dest = Point(dest_x, dest_y)\n",
    "\n",
    "    # plan a path that avoids obstacles in the scene\n",
    "    maybe_path = plan_path(start, dest, scene, planner_params)\n",
    "    planning_failed = maybe_path == nothing\n",
    "    \n",
    "    # sample the speed from the prior\n",
    "    speed = @trace(uniform(0.3, 1), :speed)\n",
    "\n",
    "    if planning_failed\n",
    "        \n",
    "        # path planning failed, assume the agent stays as the start location indefinitely\n",
    "        locations = fill(start, num_ticks)\n",
    "    else\n",
    "        \n",
    "        # path planning succeeded, move along the path at constant speed\n",
    "        locations = walk_path(maybe_path, speed, dt, num_ticks)\n",
    "    end\n",
    "\n",
    "    # generate noisy measurements of the agent's location at each time point\n",
    "    noise = 0.01\n",
    "    for (i, point) in enumerate(locations)\n",
    "        x = @trace(normal(point.x, noise), :meas => (i, :x))\n",
    "        y = @trace(normal(point.y, noise), :meas => (i, :y))\n",
    "    end\n",
    "\n",
    "    return (planning_failed, maybe_path)\n",
    "end;"
   ]
  },
  {
   "cell_type": "markdown",
   "metadata": {},
   "source": [
    "And we redefine a function that converts a trace of this model into a value that is easily serializable to JSON, for use with the GenViz visualization framework:"
   ]
  },
  {
   "cell_type": "code",
   "execution_count": null,
   "metadata": {
    "collapsed": true
   },
   "outputs": [],
   "source": [
    "function trace_to_dict(trace)\n",
    "    args = Gen.get_args(trace)\n",
    "    (scene, dt, num_ticks, planner_params) = args\n",
    "    choices = Gen.get_choices(trace)\n",
    "    (planning_failed, maybe_path) = Gen.get_retval(trace)\n",
    "\n",
    "    d = Dict()\n",
    "\n",
    "    # scene (the obstacles)\n",
    "    d[\"scene\"] = scene\n",
    "\n",
    "    # the points along the planned path\n",
    "    if planning_failed\n",
    "        d[\"path\"] = []\n",
    "    else\n",
    "        d[\"path\"] = maybe_path.points\n",
    "    end\n",
    "\n",
    "    # start and destination location\n",
    "    d[\"start\"] = Point(choices[:start_x], choices[:start_y])\n",
    "    d[\"dest\"] = Point(choices[:dest_x], choices[:dest_y])\n",
    "\n",
    "    # the observed location of the agent over time\n",
    "    local measurements\n",
    "    measurements = Vector{Point}(undef, num_ticks)\n",
    "    for i=1:num_ticks\n",
    "        measurements[i] = Point(choices[:meas => (i, :x)], choices[:meas => (i, :y)])\n",
    "    end\n",
    "    d[\"measurements\"] = measurements\n",
    "\n",
    "    return d\n",
    "end;"
   ]
  },
  {
   "cell_type": "markdown",
   "metadata": {},
   "source": [
    "We redefine a scene:"
   ]
  },
  {
   "cell_type": "code",
   "execution_count": null,
   "metadata": {
    "collapsed": true
   },
   "outputs": [],
   "source": [
    "scene = Scene(0, 1, 0, 1)\n",
    "add_obstacle!(scene, make_square(Point(0.30, 0.20), 0.1))\n",
    "add_obstacle!(scene, make_square(Point(0.83, 0.80), 0.1))\n",
    "add_obstacle!(scene, make_square(Point(0.80, 0.40), 0.1))\n",
    "horizontal = false\n",
    "vertical = true\n",
    "wall_thickness = 0.02\n",
    "add_obstacle!(scene, make_line(horizontal, Point(0.20, 0.40), 0.40, wall_thickness))\n",
    "add_obstacle!(scene, make_line(vertical, Point(0.60, 0.40), 0.40, wall_thickness))\n",
    "add_obstacle!(scene, make_line(horizontal, Point(0.60 - 0.15, 0.80), 0.15 + wall_thickness, wall_thickness))\n",
    "add_obstacle!(scene, make_line(horizontal, Point(0.20, 0.80), 0.15, wall_thickness))\n",
    "add_obstacle!(scene, make_line(vertical, Point(0.20, 0.40), 0.40, wall_thickness));"
   ]
  },
  {
   "cell_type": "markdown",
   "metadata": {},
   "source": [
    "We will assume the agent starts in the lower left-hand corner. And we will assume particular parameters for the planning algorithm that the agent uses. We will also assume that there are 10 measurements, separated `0.1` time units."
   ]
  },
  {
   "cell_type": "code",
   "execution_count": null,
   "metadata": {
    "collapsed": true
   },
   "outputs": [],
   "source": [
    "start = Point(0.1, 0.1)\n",
    "dt = 0.1\n",
    "num_ticks = 10\n",
    "planner_params = PlannerParams(300, 3.0, 2000, 1.);"
   ]
  },
  {
   "cell_type": "markdown",
   "metadata": {},
   "source": [
    "We will infer the destination of the agent for the given sequence of observed locations:"
   ]
  },
  {
   "cell_type": "code",
   "execution_count": null,
   "metadata": {
    "collapsed": true
   },
   "outputs": [],
   "source": [
    "measurements = [\n",
    "    Point(0.0980245, 0.104775),\n",
    "    Point(0.113734, 0.150773),\n",
    "    Point(0.100412, 0.195499),\n",
    "    Point(0.114794, 0.237386),\n",
    "    Point(0.0957668, 0.277711),\n",
    "    Point(0.140181, 0.31304),\n",
    "    Point(0.124384, 0.356242),\n",
    "    Point(0.122272, 0.414463),\n",
    "    Point(0.124597, 0.462056),\n",
    "    Point(0.126227, 0.498338)];"
   ]
  },
  {
   "cell_type": "markdown",
   "metadata": {},
   "source": [
    "We redefine the generic importance sampling algorithm that we used in the previous notebook:"
   ]
  },
  {
   "cell_type": "code",
   "execution_count": null,
   "metadata": {
    "collapsed": true
   },
   "outputs": [],
   "source": [
    "function do_inference(scene::Scene, dt::Float64, num_ticks::Int, planner_params::PlannerParams, start::Point,\n",
    "                      measurements::Vector{Point}, amount_of_computation::Int)\n",
    "    \n",
    "    # Create a choice map that maps model addresses (:y, i)\n",
    "    # to observed values ys[i]. We leave :slope and :intercept\n",
    "    # unconstrained, because we want them to be inferred.\n",
    "    observations = Gen.choicemap()\n",
    "    observations[:start_x] = start.x\n",
    "    observations[:start_y] = start.y\n",
    "    for (i, m) in enumerate(measurements)\n",
    "        observations[:meas => (i, :x)] = m.x\n",
    "        observations[:meas => (i, :y)] = m.y\n",
    "    end\n",
    "    \n",
    "    # Call importance_resampling to obtain a likely trace consistent\n",
    "    # with our observations.\n",
    "    (trace, _) = Gen.importance_resampling(agent_model, (scene, dt, num_ticks, planner_params),\n",
    "        observations, amount_of_computation)\n",
    "    \n",
    "    return trace\n",
    "end;"
   ]
  },
  {
   "cell_type": "markdown",
   "metadata": {},
   "source": [
    "Below, we run this algorithm 1000 times, to generate 1000 approximate samples from the posterior distribution on the destination. The inferred destinations should appear as red dots on the map. First, we abstract this into a function."
   ]
  },
  {
   "cell_type": "code",
   "execution_count": null,
   "metadata": {
    "collapsed": true
   },
   "outputs": [],
   "source": [
    "function visualize_inference(measurements, scene, start; computation_amt=50, samples=1000)\n",
    "    info = Dict(\"measurements\" => measurements, \"scene\" => scene, \"start\" => start)\n",
    "    viz = Viz(viz_server, joinpath(@__DIR__, \"../inverse-planning/overlay-viz/dist\"), info)\n",
    "    openInNotebook(viz)\n",
    "    sleep(5)\n",
    "    for i=1:samples\n",
    "        trace = do_inference(scene, dt, num_ticks, planner_params, start, measurements, computation_amt)\n",
    "        putTrace!(viz, i, trace_to_dict(trace))\n",
    "    end\n",
    "    displayInNotebook(viz)\n",
    "end;"
   ]
  },
  {
   "cell_type": "code",
   "execution_count": null,
   "metadata": {
    "scrolled": false
   },
   "outputs": [],
   "source": [
    "visualize_inference(measurements, scene, start, computation_amt=50, samples=1000)"
   ]
  },
  {
   "cell_type": "markdown",
   "metadata": {},
   "source": [
    "## 2. Writing a data-driven proposal as a generative function <a name=\"custom-proposal\"></a>"
   ]
  },
  {
   "cell_type": "markdown",
   "metadata": {},
   "source": [
    "The inference algorithm above used a variant of [`Gen.importance_resampling`](https://probcomp.github.io/Gen/dev/ref/inference/#Gen.importance_resampling) that does not take a custom proposal distribution. It uses the default proposal distribution associated with the generative model. For generative functions defined using the built-in modeling DSL, the default proposal distribution is based on *ancestral sampling*, which involves sampling unconstrained random choices from the distributions specified in the generative mode."
   ]
  },
  {
   "cell_type": "markdown",
   "metadata": {},
   "source": [
    "We can sample from the default proposal distribution using `Gen.initialize`. The cell below shows samples of the destination from this distribution."
   ]
  },
  {
   "cell_type": "code",
   "execution_count": null,
   "metadata": {},
   "outputs": [],
   "source": [
    "info = Dict(\"measurements\" => measurements, \"scene\" => scene, \"start\" => start)\n",
    "viz = Viz(viz_server, joinpath(@__DIR__, \"../inverse-planning/overlay-viz/dist\"), info)\n",
    "for i=1:1000\n",
    "    (trace, _) = Gen.generate(agent_model, (scene, dt, num_ticks, planner_params))\n",
    "    putTrace!(viz, i, trace_to_dict(trace))\n",
    "end\n",
    "displayInNotebook(viz)"
   ]
  },
  {
   "cell_type": "markdown",
   "metadata": {},
   "source": [
    "Intuitively, if we see the data set above (where blue is the starting location), we might guess that the agent is more likely to be heading into the upper part of the scene. This is because we don't expect the agent to unecessarily backtrack on its route to its destnation. A simple heuristic for biasing the proposal distribution of the destination using just the first measurement and the last measurement might be:\n",
    "\n",
    "- If the x-coordinate of the last measurement is greater than the x-coordinate of the first measurement, we think the agent is probably headed generally to the right. Make values `:dest_x` that are greater than the x-coordinate of the last measurement more probable.\n",
    "\n",
    "- If the x-coordinate of the last measurment is less than the x-coordinate of the first measurement, we think the agent is probably headed generally to the left. Make values  `:dest_x` that are smaller than the x-coordinate of the last measurement more probable.\n",
    "\n",
    "We can apply the same heuristic separately for the y-coordinate."
   ]
  },
  {
   "cell_type": "markdown",
   "metadata": {},
   "source": [
    "To implement this idea, we discretize the x-axis and y-axis of the scene into bins:"
   ]
  },
  {
   "cell_type": "code",
   "execution_count": null,
   "metadata": {
    "collapsed": true
   },
   "outputs": [],
   "source": [
    "num_x_bins = 5\n",
    "num_y_bins = 5;"
   ]
  },
  {
   "cell_type": "markdown",
   "metadata": {},
   "source": [
    "We will propose the x-coordinate of the destination from a [piecewise_uniform](https://probcomp.github.io/Gen/dev/ref/distributions/#Gen.piecewise_uniform) distribution, where we set higher probability for certain bins based on the heuristic described above and use a uniform continuous distribution for the coordinate within a bin. The `compute_bin_probs` function below computes the probability for each bin. The bounds of the scene are given by `min` and `max`. The coordinates of the first and last measured points respectively are given by `first` and `last`. We compute the probability by assigning a \"score\" to each bin based on the heuristic above --- if the bin should receive lower probability, it gets a score of 1., and if it should receive higher probability, it gets a bin of `score_high`, where `score_high` is some value greater than 1."
   ]
  },
  {
   "cell_type": "code",
   "execution_count": null,
   "metadata": {
    "collapsed": true
   },
   "outputs": [],
   "source": [
    "function compute_bin_prob(first::Float64, last::Float64, bin::Int, last_bin::Int, score_high)\n",
    "    last >= first && bin >= last_bin && return score_high\n",
    "    last < first && bin <= last_bin && return score_high\n",
    "    return 1.\n",
    "end\n",
    "\n",
    "function compute_bin_probs(num_bins::Int, min::Float64, max::Float64, first::Float64, last::Float64, score_high)\n",
    "    bin_len = (max - min) / num_bins\n",
    "    last_bin = Int(floor(last / bin_len)) + 1\n",
    "    probs = [compute_bin_prob(first, last, bin, last_bin, score_high) for bin=1:num_bins]\n",
    "    total = sum(probs)\n",
    "    return [p / total for p in probs]\n",
    "end;"
   ]
  },
  {
   "cell_type": "markdown",
   "metadata": {},
   "source": [
    "We will see how to automatically tune the value of `score_high` shortly. For now, we will use a value of 5. Below, we see that for the data set of measurements, shown above the probabilities of higher bins are indeed 5x larger than those of lower bins, becuase the agent seems to be headed up. "
   ]
  },
  {
   "cell_type": "code",
   "execution_count": null,
   "metadata": {},
   "outputs": [],
   "source": [
    "compute_bin_probs(num_y_bins, scene.ymin, scene.ymax, measurements[1].y, measurements[end].y, 5.)"
   ]
  },
  {
   "cell_type": "markdown",
   "metadata": {},
   "source": [
    "Next, we write a generative function that applies this heuristic for both the x-coordinate and y-coordinate, and samples the destination coordinates at addresses `:dest_x` and `:dest_y`."
   ]
  },
  {
   "cell_type": "code",
   "execution_count": null,
   "metadata": {
    "collapsed": true
   },
   "outputs": [],
   "source": [
    "@gen function custom_dest_proposal(measurements::Vector{Point}, scene::Scene)\n",
    "\n",
    "    score_high = 5.\n",
    "    \n",
    "    x_first = measurements[1].x\n",
    "    x_last = measurements[end].x\n",
    "    y_first = measurements[1].y\n",
    "    y_last = measurements[end].y\n",
    "    \n",
    "    # sample dest_x\n",
    "    x_probs = compute_bin_probs(num_x_bins, scene.xmin, scene.xmax, x_first, x_last, score_high)\n",
    "    x_bounds = collect(range(scene.xmin, stop=scene.xmax, length=num_x_bins+1))\n",
    "    @trace(Gen.piecewise_uniform(x_bounds, x_probs), :dest_x)\n",
    "    \n",
    "    # sample dest_y\n",
    "    y_probs = compute_bin_probs(num_y_bins, scene.ymin, scene.ymax, y_first, y_last, score_high)\n",
    "    y_bounds = collect(range(scene.ymin, stop=scene.ymax, length=num_y_bins+1))\n",
    "    @trace(Gen.piecewise_uniform(y_bounds, y_probs), :dest_y)\n",
    "    \n",
    "    return nothing\n",
    "end;"
   ]
  },
  {
   "cell_type": "markdown",
   "metadata": {},
   "source": [
    "We can propose values of random choices from the proposal function using [`Gen.propose`](https://probcomp.github.io/Gen/dev/ref/gfi/#Gen.propose). This method returns the choices, as well as some other information, which we won't need for our purposes. For now, you can think of `Gen.propose` as similar to `Gen.initialize` except that it does not produce a full execution trace (only the choices), and it does not accept constraints. We can see the random choices for one run of the proposal on our data set:"
   ]
  },
  {
   "cell_type": "code",
   "execution_count": null,
   "metadata": {},
   "outputs": [],
   "source": [
    "(proposed_choices, _, _) = Gen.propose(custom_dest_proposal, (measurements, scene))\n",
    "println(proposed_choices)"
   ]
  },
  {
   "cell_type": "markdown",
   "metadata": {},
   "source": [
    "The function below runs the proposal 1000 times. For each run, it generates a trace of the model where the `:dest_x` and `:dest_y` choices are constrained to the proposed values, and then visualizes the resulting traces. We make the proposal a parameter of the function because we will be visualizing the output distribution of various proposals later in the notebook."
   ]
  },
  {
   "cell_type": "code",
   "execution_count": null,
   "metadata": {
    "collapsed": true
   },
   "outputs": [],
   "source": [
    "function visualize_custom_destination_proposal(measurements, start, dest_proposal; num_samples=100)\n",
    "    info = Dict(\"measurements\" => measurements, \"scene\" => scene, \"start\" => start)\n",
    "    viz = Viz(viz_server, joinpath(@__DIR__, \"../inverse-planning/overlay-viz/dist\"), info)\n",
    "    for i=1:num_samples\n",
    "        (proposed_choices, _) = Gen.propose(dest_proposal, (measurements, scene))\n",
    "        (trace, _) = Gen.generate(agent_model, (scene, dt, num_ticks, planner_params), proposed_choices)\n",
    "        putTrace!(viz, i, trace_to_dict(trace))\n",
    "    end\n",
    "    displayInNotebook(viz)    \n",
    "end;"
   ]
  },
  {
   "cell_type": "markdown",
   "metadata": {},
   "source": [
    "Let's visualize the output distribution of `custom_dest_proposal` for our data set:"
   ]
  },
  {
   "cell_type": "code",
   "execution_count": null,
   "metadata": {},
   "outputs": [],
   "source": [
    "visualize_custom_destination_proposal(measurements, start, custom_dest_proposal, num_samples=1000)"
   ]
  },
  {
   "cell_type": "markdown",
   "metadata": {},
   "source": [
    "We see that the proposal distribution indeed samples destinations in the top half of the scene with higher probability than destinations in the bottom half."
   ]
  },
  {
   "cell_type": "markdown",
   "metadata": {},
   "source": [
    "## 3. Using a data-driven proposal within importance sampling <a name=\"using\"></a>"
   ]
  },
  {
   "cell_type": "markdown",
   "metadata": {},
   "source": [
    "We now use our data-driven proposal within an inference algorithm. There is a second variant of [Gen.importance_resampling](https://probcomp.github.io/Gen/dev/ref/inference/#Gen.importance_resampling) that accepts a generative function representing a custom proposal. This proposal generative function makes traced random choices at the addresses of a subset of the unobserved random choices made by the generative model. In our case, these addresses are `:dest_x` and `:dest_y`. Below, we write an inference program that uses this second variant of importance resampling. Because we will experiment with different data-driven proposals, we make the proposal into an agument of our inference program. We assume that the proposal accepts arguments `(measurements, scene)`."
   ]
  },
  {
   "cell_type": "code",
   "execution_count": null,
   "metadata": {
    "collapsed": true
   },
   "outputs": [],
   "source": [
    "function do_inference_data_driven(dest_proposal::GenerativeFunction,\n",
    "                                              scene::Scene, dt::Float64,\n",
    "                                              num_ticks::Int, planner_params::PlannerParams,\n",
    "                                              start::Point, measurements::Vector{Point}, \n",
    "                                              amount_of_computation::Int)\n",
    "    \n",
    "    observations = Gen.choicemap((:start_x, start.x), (:start_y, start.y))\n",
    "    for (i, m) in enumerate(measurements)\n",
    "        observations[:meas => (i, :x)] = m.x\n",
    "        observations[:meas => (i, :y)] = m.y\n",
    "    end\n",
    "    \n",
    "    # invoke the variant of importance_resampling that accepts a custom proposal (dest_proposal)\n",
    "    # the arguments to the custom proposal are (measurements, scene)\n",
    "    (trace, _) = Gen.importance_resampling(agent_model, (scene, dt, num_ticks, planner_params), observations, \n",
    "        dest_proposal, (measurements, scene), amount_of_computation)\n",
    "    \n",
    "    return trace\n",
    "end;"
   ]
  },
  {
   "cell_type": "markdown",
   "metadata": {},
   "source": [
    "We also write a function below that runs this algorithm a number of times, and visualizes the result:"
   ]
  },
  {
   "cell_type": "code",
   "execution_count": null,
   "metadata": {
    "collapsed": true
   },
   "outputs": [],
   "source": [
    "function visualize_data_driven_inference(measurements, scene, start, proposal; amt_computation=50, samples=1000)\n",
    "    info = Dict(\"measurements\" => measurements, \"scene\" => scene, \"start\" => start)\n",
    "    viz = Viz(viz_server, joinpath(@__DIR__, \"../inverse-planning/overlay-viz/dist\"), info)\n",
    "    openInNotebook(viz)\n",
    "    sleep(5)\n",
    "    for i=1:samples\n",
    "        trace = do_inference_data_driven(proposal, \n",
    "            scene, dt, num_ticks, planner_params, start, measurements, amt_computation)\n",
    "        putTrace!(viz, i, trace_to_dict(trace))\n",
    "    end\n",
    "    displayInNotebook(viz)\n",
    "end;"
   ]
  },
  {
   "cell_type": "markdown",
   "metadata": {},
   "source": [
    "We visualize the results with the amount of computation set fo `5`:"
   ]
  },
  {
   "cell_type": "code",
   "execution_count": null,
   "metadata": {},
   "outputs": [],
   "source": [
    "visualize_data_driven_inference(measurements, scene, start, custom_dest_proposal, amt_computation=5, samples=1000)"
   ]
  },
  {
   "cell_type": "markdown",
   "metadata": {},
   "source": [
    "We compare this to the original algorithm that used the default proposal, for the same \"amount of computation\" of 5."
   ]
  },
  {
   "cell_type": "code",
   "execution_count": null,
   "metadata": {},
   "outputs": [],
   "source": [
    "visualize_inference(measurements, scene, start, computation_amt=5, samples=1000)"
   ]
  },
  {
   "cell_type": "markdown",
   "metadata": {},
   "source": [
    "We see that the results are somewhat more accurate using the data-driven proposal.  In particular, there is less probability mass in the lower left corner when using the data-driven proposal."
   ]
  },
  {
   "cell_type": "markdown",
   "metadata": {},
   "source": [
    "## 4. Training the parameters of a data-driven proposal <a name=\"training\"></a>"
   ]
  },
  {
   "cell_type": "markdown",
   "metadata": {},
   "source": [
    "Our choice of the `score_high` value of 5. was somewhat arbitrary. To use more informed value, we can make `score_high` into a [*trainable parameter*](https://probcomp.github.io/Gen/dev/ref/modeling/#Trainable-parameters-1) of the generative function. Below, we write a new version of the proposal function that makes `score_high` trainable. However, the optimization algorithms we will use for training work best with *unconstrained* parameters (parameters that can take any value on the real line), but `score_high` must be positive. Therefore, we introduce an unconstrained trainable parameter mamed `log_score_high`, and use `exp()` to ensure that `score_high` is positive:"
   ]
  },
  {
   "cell_type": "code",
   "execution_count": null,
   "metadata": {
    "collapsed": true
   },
   "outputs": [],
   "source": [
    "@gen function custom_dest_proposal_trainable(measurements::Vector{Point}, scene::Scene)\n",
    "\n",
    "    @param log_score_high::Float64\n",
    "    \n",
    "    x_first = measurements[1].x\n",
    "    x_last = measurements[end].x\n",
    "    y_first = measurements[1].y\n",
    "    y_last = measurements[end].y\n",
    "    \n",
    "    # sample dest_x\n",
    "    x_probs = compute_bin_probs(num_x_bins, scene.xmin, scene.xmax, x_first, x_last, exp(log_score_high))\n",
    "    x_bounds = collect(range(scene.xmin, stop=scene.xmax, length=num_x_bins+1))\n",
    "    @trace(Gen.piecewise_uniform(x_bounds, x_probs), :dest_x)\n",
    "    \n",
    "    # sample dest_y\n",
    "    y_probs = compute_bin_probs(num_y_bins, scene.ymin, scene.ymax, y_first, y_last, exp(log_score_high))\n",
    "    y_bounds = collect(range(scene.ymin, stop=scene.ymax, length=num_y_bins+1))\n",
    "    @trace(Gen.piecewise_uniform(y_bounds, y_probs), :dest_y)\n",
    "    \n",
    "    return nothing\n",
    "end;"
   ]
  },
  {
   "cell_type": "markdown",
   "metadata": {},
   "source": [
    "We initialize the value of `score_high` to 1. For this value, our custom proposal gives a uniform distribution, and is the same as the default proposal."
   ]
  },
  {
   "cell_type": "code",
   "execution_count": null,
   "metadata": {
    "collapsed": true
   },
   "outputs": [],
   "source": [
    "Gen.init_param!(custom_dest_proposal_trainable, :log_score_high, 0.);"
   ]
  },
  {
   "cell_type": "markdown",
   "metadata": {},
   "source": [
    "Let's visualize the proposed distribution prior to training to confirm that it is a uniform distribution."
   ]
  },
  {
   "cell_type": "code",
   "execution_count": null,
   "metadata": {},
   "outputs": [],
   "source": [
    "visualize_custom_destination_proposal(measurements, start, custom_dest_proposal_trainable, num_samples=1000)"
   ]
  },
  {
   "cell_type": "markdown",
   "metadata": {},
   "source": [
    "Now, we train the generative function. First, we will require a data-generator that generates the training data. The data-generator is a function of no arguments that returns a tuple of the form `(inputs, constraints)`. The `inputs` are the arguments to the generative function being trained, and the `constraints` contains the desired values of random choices made by the function for those arguments. For the training distribution, we will use the distribution induced by the generative model (`agent_model`), restricted to cases where planning actually succeeded. When planning failed, the agent just stays at the same location for all time, and we won't worry about tuning our proposal for that case. The training procedure will attempt to maximize the expected conditional log probablity (density) that the proposal function generates the constrained values, when run on the arguments. Note that this is an *average case* objective function --- the resulting proposal distribution may perform better on some data sets than others."
   ]
  },
  {
   "cell_type": "code",
   "execution_count": null,
   "metadata": {
    "collapsed": true
   },
   "outputs": [],
   "source": [
    "function data_generator()\n",
    "    \n",
    "    # since these names are used in the global scope, explicitly declare it\n",
    "    # local to avoid overwriting the global variable\n",
    "    local measurements\n",
    "    local choices\n",
    "    \n",
    "    # obtain an execution of the model where planning succeeded\n",
    "    done = false\n",
    "    while !done\n",
    "        (choices, _, retval) = Gen.propose(agent_model, (scene, dt, num_ticks, planner_params))\n",
    "        (planning_failed, maybe_path) = retval       \n",
    "        done = !planning_failed\n",
    "    end\n",
    "\n",
    "    # construct arguments to the proposal function being trained\n",
    "    measurements = [Point(choices[:meas => (i, :x)], choices[:meas => (i, :y)]) for i=1:num_ticks]\n",
    "    inputs = (measurements, scene)\n",
    "    \n",
    "    # construct constraints for the proposal function being trained\n",
    "    constraints = Gen.choicemap()\n",
    "    constraints[:dest_x] = choices[:dest_x]\n",
    "    constraints[:dest_y] = choices[:dest_y]\n",
    "    \n",
    "    return (inputs, constraints)\n",
    "end;"
   ]
  },
  {
   "cell_type": "markdown",
   "metadata": {},
   "source": [
    "Next, we choose type of optimization algorithm we will use for training. Gen supports a set of gradient-based optimization algorithms (see [Optimizing Trainable Parameters](https://probcomp.github.io/Gen/dev/ref/parameter_optimization/#Optimizing-Trainable-Parameters-1)). Here we will use gradient descent with a fixed step size of 0.001."
   ]
  },
  {
   "cell_type": "code",
   "execution_count": null,
   "metadata": {
    "collapsed": true
   },
   "outputs": [],
   "source": [
    "update = Gen.ParamUpdate(Gen.FixedStepGradientDescent(0.001), custom_dest_proposal_trainable);"
   ]
  },
  {
   "cell_type": "markdown",
   "metadata": {},
   "source": [
    "Finally, we use the [`Gen.train!`](https://probcomp.github.io/Gen/dev/ref/inference/#Gen.train!) method to actually do the training.\n",
    "\n",
    "For each epoch, `Gen.train!` makes `epoch_size` calls to the data-generator to construct a batch of training data for that epoch. Then, it iteratively selects `num_minibatch` subsets of the epoch training data, each of size `100`, and applies the update once per minibatch. At the end of the epoch, it generates another batch of evaluation data (of size `evaluation_size`) which it uses to estimate the objective function (the expected conditional log likelihood under the data-generating distribution).\n",
    "\n",
    "Here, we are running 200 gradient-descent updates, where each update is using a gradient estimate obtained from 100 training examples. The method prints the estimate of the objective function after each epoch."
   ]
  },
  {
   "cell_type": "code",
   "execution_count": null,
   "metadata": {
    "scrolled": false
   },
   "outputs": [],
   "source": [
    "@time scores = Gen.train!(custom_dest_proposal_trainable, data_generator, update,\n",
    "    num_epoch=200, epoch_size=100, num_minibatch=1, minibatch_size=100, evaluation_size=100, verbose=true);"
   ]
  },
  {
   "cell_type": "code",
   "execution_count": null,
   "metadata": {},
   "outputs": [],
   "source": [
    "plot(scores)\n",
    "xlabel(\"Iterations of stochastic gradient descent\")\n",
    "ylabel(\"Estimate of expected conditional log probability density\");"
   ]
  },
  {
   "cell_type": "markdown",
   "metadata": {},
   "source": [
    "We can read out the new value for `score_high`:"
   ]
  },
  {
   "cell_type": "code",
   "execution_count": null,
   "metadata": {},
   "outputs": [],
   "source": [
    "println(exp(Gen.get_param(custom_dest_proposal_trainable, :log_score_high)))"
   ]
  },
  {
   "cell_type": "markdown",
   "metadata": {},
   "source": [
    "We see that the optimal value of the parameter is indeed larger than our initial guess. This validates that the heuristic is indeed a useful one. We visualize the proposal distribution below:"
   ]
  },
  {
   "cell_type": "code",
   "execution_count": null,
   "metadata": {},
   "outputs": [],
   "source": [
    "visualize_custom_destination_proposal(measurements, start, custom_dest_proposal_trainable, num_samples=1000)"
   ]
  },
  {
   "cell_type": "markdown",
   "metadata": {},
   "source": [
    "We can visualize the results of inference, using this newly trained proposal:"
   ]
  },
  {
   "cell_type": "code",
   "execution_count": null,
   "metadata": {},
   "outputs": [],
   "source": [
    "visualize_data_driven_inference(measurements, scene, start, custom_dest_proposal_trainable,\n",
    "    amt_computation=5, samples=1000)"
   ]
  },
  {
   "cell_type": "markdown",
   "metadata": {},
   "source": [
    "------------\n",
    "### Exercise\n",
    "\n",
    "Can you devise a data-driven proposal for the speed of the agent? Do you expect it to work equally well on all data sets? You do not need to implement it."
   ]
  },
  {
   "cell_type": "markdown",
   "metadata": {},
   "source": [
    "### Solution"
   ]
  },
  {
   "cell_type": "markdown",
   "metadata": {},
   "source": [
    "----------------"
   ]
  },
  {
   "cell_type": "markdown",
   "metadata": {},
   "source": [
    "## 5. Writing and training a deep learning based data-driven proposal <a name=\"deep\"></a>"
   ]
  },
  {
   "cell_type": "markdown",
   "metadata": {},
   "source": [
    "The heuristic data-driven proposal above gave some improvement in efficiency, but it was very simple. One way of constructing complex data-driven proposals is to parametrize the proposal with a deep neural network or use another class of high-capacity machine learning model (e.g. random forest). Here, we will will write a data-driven proposal for the destination of the agent that uses deep neural networks."
   ]
  },
  {
   "cell_type": "markdown",
   "metadata": {},
   "source": [
    "First, we define a sigmoid function for the nonlinearity in our networks."
   ]
  },
  {
   "cell_type": "code",
   "execution_count": null,
   "metadata": {
    "collapsed": true
   },
   "outputs": [],
   "source": [
    "nonlinearity(x) = 1.7159 * tanh.(x * 0.66666);"
   ]
  },
  {
   "cell_type": "markdown",
   "metadata": {},
   "source": [
    "We will use a deep neural network with two hidden layers that takes as input x- and y- coordinates of the first and last measurement (4 values) and produces as output a vector of un-normalized probabilities, one for each bin of the x-dimension. We will later sample `:dest_x` from this distribution."
   ]
  },
  {
   "cell_type": "code",
   "execution_count": null,
   "metadata": {
    "collapsed": true
   },
   "outputs": [],
   "source": [
    "function dest_x_neural_net(nn_params, x_first::Real, y_first::Real, x_last::Real, y_last::Real)\n",
    "    (W1, b1, W2, b2, W3, b3) = nn_params\n",
    "    input_layer = [x_first, y_first, x_last, y_last]\n",
    "    hidden_layer_1 = nonlinearity(W1 * input_layer .+ b1)\n",
    "    hidden_layer_2 = nonlinearity(W2 * hidden_layer_1 .+ b2)\n",
    "    output_layer = exp.(W3 * hidden_layer_2 .+ b3)\n",
    "    return output_layer\n",
    "end;"
   ]
  },
  {
   "cell_type": "markdown",
   "metadata": {},
   "source": [
    "After sampling the value of `:dest_x`, we will use a second deep neural network that takes as input the same four values extracted from the measurements, as well as the sampled value of `:dest_x` (a total of 5 inputs), and produces a vector of un-normalized probabilities, one for each bin of the y-dimension. We will sample `:dest_y` from this distribution."
   ]
  },
  {
   "cell_type": "code",
   "execution_count": null,
   "metadata": {
    "collapsed": true
   },
   "outputs": [],
   "source": [
    "function dest_y_neural_net(nn_params, x_first::Real, y_first::Real, x_last::Real, y_last::Real)#, dest_x::Real)\n",
    "    (W1, b1, W2, b2, W3, b3) = nn_params\n",
    "    input_layer = [x_first, y_first, x_last, y_last]#, dest_x]\n",
    "    hidden_layer_1 = nonlinearity(W1 * input_layer .+ b1)\n",
    "    hidden_layer_2 = nonlinearity(W2 * hidden_layer_1 .+ b2)\n",
    "    output_layer = exp.(W3 * hidden_layer_2 .+ b3)\n",
    "    return output_layer\n",
    "end;"
   ]
  },
  {
   "cell_type": "markdown",
   "metadata": {},
   "source": [
    "Now that we have defined our neural networks, we define our new proposal. This generative function has a number of parameters."
   ]
  },
  {
   "cell_type": "code",
   "execution_count": null,
   "metadata": {
    "collapsed": true
   },
   "outputs": [],
   "source": [
    "scale_coord(coord, min, max) = (coord / (max - min)) - 0.5\n",
    "\n",
    "@gen function custom_dest_proposal_neural(measurements::Vector{Point}, scene::Scene)\n",
    "        \n",
    "    @param x_W1::Matrix{Float64}\n",
    "    @param x_b1::Vector{Float64}\n",
    "    @param x_W2::Matrix{Float64}\n",
    "    @param x_b2::Vector{Float64}\n",
    "    @param x_W3::Matrix{Float64}\n",
    "    @param x_b3::Vector{Float64}\n",
    "    \n",
    "    @param y_W1::Matrix{Float64}\n",
    "    @param y_b1::Vector{Float64}\n",
    "    @param y_W2::Matrix{Float64}\n",
    "    @param y_b2::Vector{Float64}\n",
    "    @param y_W3::Matrix{Float64}\n",
    "    @param y_b3::Vector{Float64}\n",
    "    \n",
    "    num_x_bins = length(x_b3)\n",
    "    num_y_bins = length(y_b3)\n",
    "    \n",
    "    # scale inputs to be in the range [-0.5, 0.5]\n",
    "    x_first = scale_coord(measurements[1].x, scene.xmin, scene.xmax)\n",
    "    x_last = scale_coord(measurements[end].x, scene.xmin, scene.xmax)\n",
    "    y_first = scale_coord(measurements[1].y, scene.ymin, scene.ymax)\n",
    "    y_last = scale_coord(measurements[end].y, scene.ymin, scene.ymax)\n",
    "    \n",
    "    # sample dest_x\n",
    "    x_bounds = collect(range(scene.xmin, stop=scene.xmax, length=num_x_bins+1))\n",
    "    x_probs = dest_x_neural_net((x_W1, x_b1, x_W2, x_b2, x_W3, x_b3), x_first, y_first, x_last, y_last)\n",
    "    @trace(Gen.piecewise_uniform(x_bounds, x_probs / sum(x_probs)), :dest_x)\n",
    "    \n",
    "    # sample dest_y\n",
    "    y_bounds = collect(range(scene.xmin, stop=scene.xmax, length=num_y_bins+1))\n",
    "    y_probs = dest_y_neural_net((y_W1, y_b1, y_W2, y_b2, y_W3, y_b3), x_first, y_first, x_last, y_last)\n",
    "    @trace(Gen.piecewise_uniform(y_bounds, y_probs / sum(y_probs)), :dest_y)\n",
    "    \n",
    "    return nothing\n",
    "end;"
   ]
  },
  {
   "cell_type": "markdown",
   "metadata": {
    "collapsed": true
   },
   "source": [
    "We will use 50 hidden units in each of the layers of the two networks:"
   ]
  },
  {
   "cell_type": "code",
   "execution_count": null,
   "metadata": {
    "collapsed": true
   },
   "outputs": [],
   "source": [
    "num_hidden_1 = 50\n",
    "num_hidden_2 = 50;"
   ]
  },
  {
   "cell_type": "markdown",
   "metadata": {},
   "source": [
    "Next, we initialize the parameters:"
   ]
  },
  {
   "cell_type": "code",
   "execution_count": null,
   "metadata": {
    "collapsed": true
   },
   "outputs": [],
   "source": [
    "import Random\n",
    "Random.seed!(3)\n",
    "\n",
    "init_weight(shape...) = (1. / sqrt(shape[2])) * randn(shape...)\n",
    "\n",
    "init_x_W1 = init_weight(num_hidden_1, 4)\n",
    "init_x_W2 = init_weight(num_hidden_2, num_hidden_1)\n",
    "init_x_W3 = init_weight(num_x_bins, num_hidden_2)\n",
    "\n",
    "# set parameters for dest_x_neural_net predictor network\n",
    "init_param!(custom_dest_proposal_neural, :x_W1, init_x_W1)\n",
    "init_param!(custom_dest_proposal_neural, :x_b1, zeros(num_hidden_1))\n",
    "init_param!(custom_dest_proposal_neural, :x_W2, init_x_W2)\n",
    "init_param!(custom_dest_proposal_neural, :x_b2, zeros(num_hidden_2))\n",
    "init_param!(custom_dest_proposal_neural, :x_W3, init_x_W3)\n",
    "init_param!(custom_dest_proposal_neural, :x_b3, zeros(num_x_bins))\n",
    "\n",
    "init_y_W1 = init_weight(num_hidden_1, 4)\n",
    "init_y_W2 = init_weight(num_hidden_2, num_hidden_1)\n",
    "init_y_W3 = init_weight(num_x_bins, num_hidden_2)\n",
    "\n",
    "# set parameters for dest_y_neural_net predictor network\n",
    "init_param!(custom_dest_proposal_neural, :y_W1, init_y_W1)\n",
    "init_param!(custom_dest_proposal_neural, :y_b1, zeros(num_hidden_1))\n",
    "init_param!(custom_dest_proposal_neural, :y_W2, init_y_W2)\n",
    "init_param!(custom_dest_proposal_neural, :y_b2, zeros(num_hidden_2))\n",
    "init_param!(custom_dest_proposal_neural, :y_W3, init_y_W3)\n",
    "init_param!(custom_dest_proposal_neural, :y_b3, zeros(num_y_bins));"
   ]
  },
  {
   "cell_type": "markdown",
   "metadata": {},
   "source": [
    "Now, we visualize the proposal distribution prior to training:"
   ]
  },
  {
   "cell_type": "code",
   "execution_count": null,
   "metadata": {},
   "outputs": [],
   "source": [
    "visualize_custom_destination_proposal(measurements, start, custom_dest_proposal_neural, num_samples=1000)"
   ]
  },
  {
   "cell_type": "markdown",
   "metadata": {},
   "source": [
    "It looks like the initial distribution is roughly uniform, like the default proposal."
   ]
  },
  {
   "cell_type": "markdown",
   "metadata": {},
   "source": [
    "Now we train the network stochastic gradient descent with a fixed step size of 0.001 that is shared among all of the trainable parameters."
   ]
  },
  {
   "cell_type": "code",
   "execution_count": null,
   "metadata": {
    "collapsed": true
   },
   "outputs": [],
   "source": [
    "update = Gen.ParamUpdate(Gen.FixedStepGradientDescent(0.001), custom_dest_proposal_neural);"
   ]
  },
  {
   "cell_type": "markdown",
   "metadata": {},
   "source": [
    "We use 100 epochs of training. In each epoch, we generate 1000 training examples, and we apply 100 gradient updates, where each update is based on the gradient estimate obtained from a random set of 100 of the trainable examples. At the end of each epoch, we estimate the objective function value using 10000 freshly sampled examples. This process takes about 10 minutes to run, so we have precomputed the results for you\n",
    "\n",
    "```julia\n",
    "@time scores = Gen.train!(custom_dest_proposal_neural, data_generator, update,\n",
    "    num_epoch=100, epoch_size=1000, num_minibatch=100, minibatch_size=100,\n",
    "    evaluation_size=1000, verbose=true);\n",
    "    \n",
    "let data = Dict()\n",
    "    for name in [:x_W1, :x_b1, :x_W2, :x_b2, :x_W3, :x_b3, :y_W1, :y_b1, :y_W2, :y_b2, :y_W3, :y_b3]\n",
    "        data[(:param, name)] = Gen.get_param(custom_dest_proposal_neural, name)\n",
    "    end\n",
    "    data[:scores] = scores\n",
    "    save(\"params/custom_dest_proposal_neural_trained.jld\", \"data\", data)\n",
    "end\n",
    "```"
   ]
  },
  {
   "cell_type": "markdown",
   "metadata": {},
   "source": [
    "We load the results here:"
   ]
  },
  {
   "cell_type": "code",
   "execution_count": null,
   "metadata": {
    "collapsed": true
   },
   "outputs": [],
   "source": [
    "scores = let data = load(\"params/custom_dest_proposal_neural_trained.jld\", \"data\")\n",
    "    for name in [:x_W1, :x_b1, :x_W2, :x_b2, :x_W3, :x_b3, :y_W1, :y_b1, :y_W2, :y_b2, :y_W3, :y_b3]\n",
    "        Gen.init_param!(custom_dest_proposal_neural, name, data[(:param, name)])\n",
    "    end\n",
    "    data[:scores]\n",
    "end;"
   ]
  },
  {
   "cell_type": "markdown",
   "metadata": {},
   "source": [
    "We plot the estimate of the objective function over epochs:"
   ]
  },
  {
   "cell_type": "code",
   "execution_count": null,
   "metadata": {},
   "outputs": [],
   "source": [
    "plot(scores)\n",
    "xlabel(\"Epochs\")\n",
    "ylabel(\"Estimate of the expected conditional log probability density\");"
   ]
  },
  {
   "cell_type": "markdown",
   "metadata": {},
   "source": [
    "Below, we visualize the trained proposal distribution for our data set:"
   ]
  },
  {
   "cell_type": "code",
   "execution_count": null,
   "metadata": {},
   "outputs": [],
   "source": [
    "visualize_custom_destination_proposal(measurements, start, custom_dest_proposal_neural, num_samples=1000)"
   ]
  },
  {
   "cell_type": "markdown",
   "metadata": {},
   "source": [
    "If we run inference with `amt_computation` set to 5, we see that the inferred distribution reflects the bias of the proposal:"
   ]
  },
  {
   "cell_type": "code",
   "execution_count": null,
   "metadata": {},
   "outputs": [],
   "source": [
    "visualize_data_driven_inference(measurements, scene, start, custom_dest_proposal_neural,\n",
    "    amt_computation=5, samples=1000)"
   ]
  },
  {
   "cell_type": "markdown",
   "metadata": {},
   "source": [
    "As we increase the amount of computation, the effect of the proposal's bias is reduced:"
   ]
  },
  {
   "cell_type": "code",
   "execution_count": null,
   "metadata": {},
   "outputs": [],
   "source": [
    "visualize_data_driven_inference(measurements, scene, start, custom_dest_proposal_neural,\n",
    "    amt_computation=50, samples=1000)"
   ]
  },
  {
   "cell_type": "markdown",
   "metadata": {},
   "source": [
    "In the limit of infinite computation, the distribution converges to the posterior:"
   ]
  },
  {
   "cell_type": "markdown",
   "metadata": {},
   "source": [
    "------\n",
    "\n",
    "### Exercise\n",
    "\n",
    "Visualize the trained proposal distribution `custom_dest_proposal_neural` on some other data sets, either generated by simulating from the model, or constructed manually. Note that the proposal only reads from the first and last of the measurements. Discuss the results."
   ]
  },
  {
   "cell_type": "markdown",
   "metadata": {},
   "source": [
    "### Solution"
   ]
  },
  {
   "cell_type": "markdown",
   "metadata": {},
   "source": [
    "------------"
   ]
  },
  {
   "cell_type": "markdown",
   "metadata": {},
   "source": [
    "---------\n",
    "### Exercise\n",
    "\n",
    "What is the objective value for the default proposal, which is the uniform distribution on the entire scene area? Recall that the objective function is the expected conditional log probability density of the proposal evaluated on destination points drawn by simulating from the model.\n",
    "\n",
    "Hint: The log probability density of the uniform distribution is a constant."
   ]
  },
  {
   "cell_type": "markdown",
   "metadata": {},
   "source": [
    "----\n",
    "\n",
    "### Solution"
   ]
  },
  {
   "cell_type": "markdown",
   "metadata": {},
   "source": [
    "## 6. Writing a data-driven proposal that uses TensorFlow <a name=\"tf\"></a>\n",
    "\n",
    "The data-driven neural proposal above used Julia code to implement the neural network. It is also possible to implement the neural networks in TensorFlow using the [GenTF](https://github.com/probcomp/GenTF) package that was introduced in a previous tutorial. We load GenTF, [PyCall](https://github.com/JuliaPy/PyCall.jl), and we import the TensorFlow Python module: "
   ]
  },
  {
   "cell_type": "code",
   "execution_count": null,
   "metadata": {
    "collapsed": true
   },
   "outputs": [],
   "source": [
    "using GenTF\n",
    "using PyCall\n",
    "@pyimport tensorflow as tf"
   ]
  },
  {
   "cell_type": "markdown",
   "metadata": {},
   "source": [
    "Now, we implement the neural network that generate sthe parameters of the distribution of `:dest_x` as a `GenTF.TFFunction`, which is a type of generative function that is constructed from a TensorFlow computation graph."
   ]
  },
  {
   "cell_type": "code",
   "execution_count": null,
   "metadata": {},
   "outputs": [],
   "source": [
    "vec_to_mat(vec) = tf.expand_dims(vec, axis=1)\n",
    "mat_to_vec(mat) = tf.squeeze(mat, axis=1)\n",
    "\n",
    "c1 = tf.constant(1.7159, dtype=tf.float64)\n",
    "c2 = tf.constant(0.6666, dtype=tf.float64)\n",
    "tf_nonlinearity(val) = tf.scalar_mul(c1, tf.tanh(tf.scalar_mul(c2, val)))\n",
    "\n",
    "# use TensorFlow Python API to construct computation graph for the dest_x neural network\n",
    "x_W1 = tf.get_variable(\"x_W1\", dtype=tf.float64, initializer=init_x_W1)\n",
    "x_b1 = tf.get_variable(\"x_b1\", dtype=tf.float64, initializer=zeros(num_hidden_1))\n",
    "x_W2 = tf.get_variable(\"x_W2\", dtype=tf.float64, initializer=init_x_W2)\n",
    "x_b2 = tf.get_variable(\"x_b2\", dtype=tf.float64, initializer=zeros(num_hidden_2))\n",
    "x_W3 = tf.get_variable(\"x_W3\", dtype=tf.float64, initializer=init_x_W3)\n",
    "x_b3 = tf.get_variable(\"x_b3\", dtype=tf.float64, initializer=zeros(num_x_bins))\n",
    "x_nn_input = tf.placeholder(dtype=tf.float64, shape=(4,))\n",
    "x_nn_hidden_1 = tf_nonlinearity(tf.add(mat_to_vec(tf.matmul(x_W1, vec_to_mat(x_nn_input))), x_b1))\n",
    "x_nn_hidden_2 = tf_nonlinearity(tf.add(mat_to_vec(tf.matmul(x_W2, vec_to_mat(x_nn_hidden_1))), x_b2))\n",
    "x_nn_output = tf.exp(tf.add(mat_to_vec(tf.matmul(x_W3, vec_to_mat(x_nn_hidden_2))), x_b3))\n",
    "\n",
    "# construct a TFFunction generative function for the x neural network\n",
    "x_nn = GenTF.TFFunction([x_W1, x_b1, x_W2, x_b2, x_W3, x_b3], [x_nn_input], x_nn_output);"
   ]
  },
  {
   "cell_type": "markdown",
   "metadata": {},
   "source": [
    "We do the same for the neural network that generates the y-coordinates:"
   ]
  },
  {
   "cell_type": "code",
   "execution_count": null,
   "metadata": {
    "collapsed": true
   },
   "outputs": [],
   "source": [
    "# use TensorFlow Python API to construct computation graph for the dest_y neural network\n",
    "y_W1 = tf.get_variable(\"y_W1\", dtype=tf.float64, initializer=init_y_W1)\n",
    "y_b1 = tf.get_variable(\"y_b1\", dtype=tf.float64, initializer=zeros(num_hidden_1))\n",
    "y_W2 = tf.get_variable(\"y_W2\", dtype=tf.float64, initializer=init_y_W2)\n",
    "y_b2 = tf.get_variable(\"y_b2\", dtype=tf.float64, initializer=zeros(num_hidden_2))\n",
    "y_W3 = tf.get_variable(\"y_W3\", dtype=tf.float64, initializer=init_y_W3)\n",
    "y_b3 = tf.get_variable(\"y_b3\", dtype=tf.float64, initializer=zeros(num_y_bins))\n",
    "y_nn_input = tf.placeholder(dtype=tf.float64, shape=(4,))\n",
    "y_nn_hidden_1 = tf_nonlinearity(tf.add(mat_to_vec(tf.matmul(y_W1, vec_to_mat(y_nn_input))), y_b1))\n",
    "y_nn_hidden_2 = tf_nonlinearity(tf.add(mat_to_vec(tf.matmul(y_W2, vec_to_mat(y_nn_hidden_1))), y_b2))\n",
    "y_nn_output = tf.exp(tf.add(mat_to_vec(tf.matmul(y_W3, vec_to_mat(y_nn_hidden_2))), y_b3))\n",
    "\n",
    "# construct a TFFunction generative function for the y neural network\n",
    "y_nn = GenTF.TFFunction([y_W1, y_b1, y_W2, y_b2, y_W3, y_b3], [y_nn_input], y_nn_output);"
   ]
  },
  {
   "cell_type": "markdown",
   "metadata": {},
   "source": [
    "Next, we define a `@gen` function that invokes the two neural network `TFFunction`s and actually samples the proposed values."
   ]
  },
  {
   "cell_type": "code",
   "execution_count": null,
   "metadata": {
    "collapsed": true
   },
   "outputs": [],
   "source": [
    "@gen function custom_dest_proposal_tf(measurements::Vector{Point}, scene::Scene)\n",
    "        \n",
    "    # scale inputs to be in the range [-0.5, 0.5]\n",
    "    x_first = scale_coord(measurements[1].x, scene.xmin, scene.xmax)\n",
    "    x_last = scale_coord(measurements[end].x, scene.xmin, scene.xmax)\n",
    "    y_first = scale_coord(measurements[1].y, scene.ymin, scene.ymax)\n",
    "    y_last = scale_coord(measurements[end].y, scene.ymin, scene.ymax)\n",
    "    \n",
    "    # sample dest_x\n",
    "    x_bounds = collect(range(scene.xmin, stop=scene.xmax, length=num_x_bins+1))\n",
    "    x_probs = @trace(x_nn([x_first, y_first, x_last, y_last]), :x_net)\n",
    "    dest_x = @trace(Gen.piecewise_uniform(x_bounds, x_probs / sum(x_probs)), :dest_x)\n",
    "    \n",
    "    # sample dest_y\n",
    "    y_bounds = collect(range(scene.ymin, stop=scene.ymax, length=num_y_bins+1))\n",
    "    y_probs = @trace(y_nn([x_first, y_first, x_last, y_last]), :y_net)\n",
    "    @trace(Gen.piecewise_uniform(y_bounds, y_probs / sum(y_probs)), :dest_y)\n",
    "    \n",
    "    return nothing\n",
    "end;"
   ]
  },
  {
   "cell_type": "markdown",
   "metadata": {},
   "source": [
    "To train the proposal, we construct an update that applies a fixed step size gradient descent move. We indicate that we want the update to apply to all the trainable parameters of `x_nn` and all the trainable parameters of `y_nn`. Note that `custom_dest_proposal_tf` does not have any trainable parameters of its own, unlike `custom_dest_proposal_neural`."
   ]
  },
  {
   "cell_type": "code",
   "execution_count": null,
   "metadata": {
    "collapsed": true
   },
   "outputs": [],
   "source": [
    "update = Gen.ParamUpdate(Gen.FixedStepGradientDescent(0.001),\n",
    "    x_nn => collect(get_params(x_nn)), y_nn => collect(get_params(y_nn)));"
   ]
  },
  {
   "cell_type": "markdown",
   "metadata": {},
   "source": [
    "The training takes about 10 minutes to run on a CPU. We have already run the training code, and saved the parameters:\n",
    "\n",
    "```julia\n",
    "Gen.train!(custom_dest_proposal_tf, data_generator, update,\n",
    "    num_epoch=100, epoch_size=1000, num_minibatch=100, minibatch_size=100,\n",
    "    evaluation_size=10, eval_period=100, verbose=true);\n",
    "   \n",
    "# save state of parameters for x_nn_vec\n",
    "saver = tf.train[:Saver](Dict(string(var[:name]) => var for var in Gen.get_params(x_nn_vec)))\n",
    "saver[:save](GenTF.get_session(x_nn_vec), \"params/x_nn.ckpt\")\n",
    "\n",
    "# save state of parameters for y_nn_vec\n",
    "saver = tf.train[:Saver](Dict(string(var[:name]) => var for var in Gen.get_params(x_nn_vec)))\n",
    "saver[:save](GenTF.get_session(x_nn_vec), \"params/x_nn.ckpt\")\n",
    "```"
   ]
  },
  {
   "cell_type": "markdown",
   "metadata": {},
   "source": [
    "We load the parameters below:"
   ]
  },
  {
   "cell_type": "code",
   "execution_count": null,
   "metadata": {},
   "outputs": [],
   "source": [
    "saver = tf.train[:Saver](Dict(string(var[:name]) => var for var in Gen.get_params(x_nn)))\n",
    "saver[:restore](GenTF.get_session(x_nn), \"params/x_nn.ckpt\")\n",
    "\n",
    "saver = tf.train[:Saver](Dict(string(var[:name]) => var for var in Gen.get_params(y_nn)))\n",
    "saver[:restore](GenTF.get_session(y_nn), \"params/y_nn.ckpt\")"
   ]
  },
  {
   "cell_type": "markdown",
   "metadata": {
    "collapsed": true
   },
   "source": [
    "We visualize the distribution after training:"
   ]
  },
  {
   "cell_type": "code",
   "execution_count": null,
   "metadata": {},
   "outputs": [],
   "source": [
    "visualize_custom_destination_proposal(measurements, start, custom_dest_proposal_tf, num_samples=1000)"
   ]
  },
  {
   "cell_type": "markdown",
   "metadata": {},
   "source": [
    "--------\n",
    "\n",
    "### Exercise\n",
    "\n",
    "The training procedure for the neural networks above was not vectorized across training examples. For fast training on a GPU it is important to vectorize the evaluation of gradients across multiple training examples. Write a vectorized version of the `custom_dest_proposal_tf` that takes a scene and a vector of data sets (measurement vectors), and samples a destination point for each of the input data sets. Train it and visualize the proposal distribution, and the results of importance resampling inference that using the proposal for some amount of coputation, for our example data set.\n",
    "\n",
    "Hint:\n",
    "\n",
    "- Construct a vectorized version of each of the neural networks that operate on an extra 'training example' dimension.\n",
    "\n",
    "- Construct a vectorized version of the proposal. It should accept a vector of measurement vectors as one of its arguments. This vectorized propsal should make 2N random choices where N is the batch size.\n",
    "\n",
    "- Construct a vectorized version of the data generator. It should generate constraints for all random choices of the vectorized proposal.\n",
    "\n",
    "- Construct a non-vectorized version of the proposal that invokes the vectorized neural networks on a single data set."
   ]
  },
  {
   "cell_type": "markdown",
   "metadata": {
    "collapsed": true
   },
   "source": [
    "### Solution"
   ]
  }
 ],
 "metadata": {
  "kernelspec": {
   "display_name": "Julia 1.0.2",
   "language": "julia",
   "name": "julia-1.0"
  },
  "language_info": {
   "file_extension": ".jl",
   "mimetype": "application/julia",
   "name": "julia",
   "version": "1.0.2"
  }
 },
 "nbformat": 4,
 "nbformat_minor": 2
}
