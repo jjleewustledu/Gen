{
 "cells": [
  {
   "cell_type": "markdown",
   "metadata": {},
   "source": [
    "# Gen Quick Start\n",
    "\n",
    "This is a collection of notebooks intended to help you get started with Gen.\n",
    "\n",
    "## Tutorials\n",
    "\n",
    "The notebooks discuss modeling and inference in Gen, and are designed to be used in the following order:\n",
    "\n",
    "1. [Introduction to Modeling in Gen](tutorials/Introduction%20to%20Modeling%20in%20Gen.ipynb)\n",
    "\n",
    "2. [Modeling with Black-Box Julia Code](tutorials/Modeling%20with%20Black-Box%20Julia%20Code.ipynb)\n",
    "\n",
    "3. [Modeling with TensorFlow Code](tutorials/Modeling%20with%20TensorFlow%20Code.ipynb)\n",
    "\n",
    "4. [Basics of Iterative Inference in Gen](tutorials/Iterative%20inference%20in%20Gen.ipynb)\n",
    "\n",
    "5. [Data-Driven Proposals in Gen](tutorials/Data-Driven%20Proposals%20in%20Gen.ipynb)\n",
    "\n",
    "5. [Scaling with Combinators and the Static Modeling Language](tutorials/Scaling%20with%20Combinators%20and%20the%20Static%20Modeling%20Language.ipynb)\n",
    "\n",
    "7. [Particle Filtering in Gen](tutorials/Particle%20Filtering%20in%20Gen.ipynb)\n",
    "\n",
    "To learn about some of the lower-level details of Gen, and more advanced material, see the following notebooks:\n",
    "\n",
    "1. [A Bottom-Up Introduction to Gen](tutorials/A%20Bottom-Up%20Introduction%20to%20Gen.ipynb)\n",
    "\n",
    "2. [Reasoning about Regenerate](tutorials/Reasoning%20About%20Regenerate.ipynb)\n",
    "\n",
    "## Case Studies\n",
    "\n",
    "To come..\n",
    "\n",
    "\n",
    "## Reference\n",
    "\n",
    "- [Gen documentation](https://probcomp.github.io/Gen/dev/)\n",
    "\n",
    "- [GenTF documentation](https://probcomp.github.io/GenTF/dev/)\n",
    "\n",
    "- [GenViz documentation](https://probcomp.github.io/GenTF/dev/)"
   ]
  }
 ],
 "metadata": {
  "kernelspec": {
   "display_name": "Julia 1.0.2",
   "language": "julia",
   "name": "julia-1.0"
  },
  "language_info": {
   "file_extension": ".jl",
   "mimetype": "application/julia",
   "name": "julia",
   "version": "1.0.2"
  }
 },
 "nbformat": 4,
 "nbformat_minor": 2
}
